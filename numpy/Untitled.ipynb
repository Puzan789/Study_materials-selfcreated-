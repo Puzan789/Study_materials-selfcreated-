{
 "cells": [
  {
   "cell_type": "code",
   "execution_count": 1,
   "id": "8e95cae8",
   "metadata": {},
   "outputs": [],
   "source": [
    "import numpy as np"
   ]
  },
  {
   "cell_type": "markdown",
   "id": "fe40e534",
   "metadata": {},
   "source": [
    "## Statisticals functions \n"
   ]
  },
  {
   "cell_type": "code",
   "execution_count": 3,
   "id": "8ee00b55",
   "metadata": {},
   "outputs": [],
   "source": [
    "p=np.array([1,2,3,4])"
   ]
  },
  {
   "cell_type": "code",
   "execution_count": 6,
   "id": "ab505392",
   "metadata": {},
   "outputs": [
    {
     "name": "stdout",
     "output_type": "stream",
     "text": [
      "1\n",
      "4\n"
     ]
    }
   ],
   "source": [
    "print(np.amin(p))\n",
    "print(np.amax(p))"
   ]
  },
  {
   "cell_type": "code",
   "execution_count": 12,
   "id": "6fe01341",
   "metadata": {},
   "outputs": [
    {
     "name": "stdout",
     "output_type": "stream",
     "text": [
      "\n",
      " min is [23 98 43]\n"
     ]
    }
   ],
   "source": [
    "a=np.array([[23,45,11],[20,98,43],[20,65,33]])\n",
    "a_max=np.amax(a,axis=0)\n",
    "print(\"\\n min is {}\" .format(a_max))"
   ]
  },
  {
   "cell_type": "code",
   "execution_count": 13,
   "id": "7bf34e58",
   "metadata": {},
   "outputs": [
    {
     "data": {
      "text/plain": [
       "2.5"
      ]
     },
     "execution_count": 13,
     "metadata": {},
     "output_type": "execute_result"
    }
   ],
   "source": [
    "np.mean(p)"
   ]
  },
  {
   "cell_type": "code",
   "execution_count": 15,
   "id": "acfda5a2",
   "metadata": {},
   "outputs": [
    {
     "data": {
      "text/plain": [
       "39.77777777777778"
      ]
     },
     "execution_count": 15,
     "metadata": {},
     "output_type": "execute_result"
    }
   ],
   "source": [
    "np.average(a)"
   ]
  },
  {
   "cell_type": "code",
   "execution_count": 16,
   "id": "6f9fdf4a",
   "metadata": {},
   "outputs": [
    {
     "data": {
      "text/plain": [
       "666.8395061728396"
      ]
     },
     "execution_count": 16,
     "metadata": {},
     "output_type": "execute_result"
    }
   ],
   "source": [
    "np.var(a)"
   ]
  },
  {
   "cell_type": "code",
   "execution_count": 17,
   "id": "53f2d174",
   "metadata": {},
   "outputs": [
    {
     "data": {
      "text/plain": [
       "25.82323578045245"
      ]
     },
     "execution_count": 17,
     "metadata": {},
     "output_type": "execute_result"
    }
   ],
   "source": [
    "np.std(a)"
   ]
  },
  {
   "cell_type": "code",
   "execution_count": 19,
   "id": "6bcbddcb",
   "metadata": {},
   "outputs": [
    {
     "data": {
      "text/plain": [
       "array([ 1,  4,  9, 16], dtype=int32)"
      ]
     },
     "execution_count": 19,
     "metadata": {},
     "output_type": "execute_result"
    }
   ],
   "source": [
    "np.power(p,2)"
   ]
  },
  {
   "cell_type": "code",
   "execution_count": null,
   "id": "e0339dd3",
   "metadata": {},
   "outputs": [],
   "source": []
  }
 ],
 "metadata": {
  "kernelspec": {
   "display_name": "Python 3 (ipykernel)",
   "language": "python",
   "name": "python3"
  },
  "language_info": {
   "codemirror_mode": {
    "name": "ipython",
    "version": 3
   },
   "file_extension": ".py",
   "mimetype": "text/x-python",
   "name": "python",
   "nbconvert_exporter": "python",
   "pygments_lexer": "ipython3",
   "version": "3.11.3"
  }
 },
 "nbformat": 4,
 "nbformat_minor": 5
}
