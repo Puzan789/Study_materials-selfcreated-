{
 "cells": [
  {
   "cell_type": "code",
   "execution_count": 47,
   "id": "5a81420e",
   "metadata": {},
   "outputs": [],
   "source": [
    "import pandas as pd\n",
    "import numpy as np\n",
    "from io import StringIO\n",
    "import matplotlib.pyplot as plt\n",
    "%matplotlib inline\n"
   ]
  },
  {
   "cell_type": "markdown",
   "id": "1a701727",
   "metadata": {},
   "source": [
    "## DataFrames"
   ]
  },
  {
   "cell_type": "code",
   "execution_count": 2,
   "id": "37adcacc",
   "metadata": {},
   "outputs": [
    {
     "data": {
      "text/html": [
       "<div>\n",
       "<style scoped>\n",
       "    .dataframe tbody tr th:only-of-type {\n",
       "        vertical-align: middle;\n",
       "    }\n",
       "\n",
       "    .dataframe tbody tr th {\n",
       "        vertical-align: top;\n",
       "    }\n",
       "\n",
       "    .dataframe thead th {\n",
       "        text-align: right;\n",
       "    }\n",
       "</style>\n",
       "<table border=\"1\" class=\"dataframe\">\n",
       "  <thead>\n",
       "    <tr style=\"text-align: right;\">\n",
       "      <th></th>\n",
       "      <th>growth</th>\n",
       "      <th>Name</th>\n",
       "    </tr>\n",
       "  </thead>\n",
       "  <tbody>\n",
       "    <tr>\n",
       "      <th>0</th>\n",
       "      <td>0.5</td>\n",
       "      <td>ram</td>\n",
       "    </tr>\n",
       "    <tr>\n",
       "      <th>1</th>\n",
       "      <td>0.6</td>\n",
       "      <td>shyam</td>\n",
       "    </tr>\n",
       "    <tr>\n",
       "      <th>2</th>\n",
       "      <td>1.8</td>\n",
       "      <td>hari</td>\n",
       "    </tr>\n",
       "  </tbody>\n",
       "</table>\n",
       "</div>"
      ],
      "text/plain": [
       "   growth   Name\n",
       "0     0.5    ram\n",
       "1     0.6  shyam\n",
       "2     1.8   hari"
      ]
     },
     "execution_count": 2,
     "metadata": {},
     "output_type": "execute_result"
    }
   ],
   "source": [
    "df=pd.DataFrame({'growth':[.5,.6,1.8],'Name':['ram','shyam','hari']},)\n",
    "df"
   ]
  },
  {
   "cell_type": "markdown",
   "id": "a3c99655",
   "metadata": {},
   "source": [
    "#### To access a row by location,index off the iloc attribute\n"
   ]
  },
  {
   "cell_type": "code",
   "execution_count": 3,
   "id": "ce47aae9",
   "metadata": {},
   "outputs": [
    {
     "data": {
      "text/plain": [
       "growth     1.8\n",
       "Name      hari\n",
       "Name: 2, dtype: object"
      ]
     },
     "execution_count": 3,
     "metadata": {},
     "output_type": "execute_result"
    }
   ],
   "source": [
    "df.iloc[2]"
   ]
  },
  {
   "cell_type": "code",
   "execution_count": 7,
   "id": "e381aa44",
   "metadata": {},
   "outputs": [],
   "source": [
    "p=df['Name'].str.upper()"
   ]
  },
  {
   "cell_type": "code",
   "execution_count": 8,
   "id": "74e0e9ba",
   "metadata": {},
   "outputs": [
    {
     "data": {
      "text/plain": [
       "0      RAM\n",
       "1    SHYAM\n",
       "2     HARI\n",
       "Name: Name, dtype: object"
      ]
     },
     "execution_count": 8,
     "metadata": {},
     "output_type": "execute_result"
    }
   ],
   "source": [
    "p"
   ]
  },
  {
   "cell_type": "markdown",
   "id": "6175a21b",
   "metadata": {},
   "source": [
    "### Dataframes can be created from many types of input\n",
    " - columns(dicts of lists)\n",
    " - rows(list of dicts)\n",
    " - CSV file (pd.read_csv)\n",
    " - from numpy ndarrray\n",
    " - And more SQL,HDF5,etc"
   ]
  },
  {
   "cell_type": "code",
   "execution_count": 9,
   "id": "a07b60b7",
   "metadata": {},
   "outputs": [
    {
     "data": {
      "text/html": [
       "<div>\n",
       "<style scoped>\n",
       "    .dataframe tbody tr th:only-of-type {\n",
       "        vertical-align: middle;\n",
       "    }\n",
       "\n",
       "    .dataframe tbody tr th {\n",
       "        vertical-align: top;\n",
       "    }\n",
       "\n",
       "    .dataframe thead th {\n",
       "        text-align: right;\n",
       "    }\n",
       "</style>\n",
       "<table border=\"1\" class=\"dataframe\">\n",
       "  <thead>\n",
       "    <tr style=\"text-align: right;\">\n",
       "      <th></th>\n",
       "      <th>growth</th>\n",
       "      <th>Name</th>\n",
       "    </tr>\n",
       "  </thead>\n",
       "  <tbody>\n",
       "    <tr>\n",
       "      <th>0</th>\n",
       "      <td>0.5</td>\n",
       "      <td>Paul</td>\n",
       "    </tr>\n",
       "    <tr>\n",
       "      <th>1</th>\n",
       "      <td>0.7</td>\n",
       "      <td>hari</td>\n",
       "    </tr>\n",
       "    <tr>\n",
       "      <th>2</th>\n",
       "      <td>1.2</td>\n",
       "      <td>ratan</td>\n",
       "    </tr>\n",
       "  </tbody>\n",
       "</table>\n",
       "</div>"
      ],
      "text/plain": [
       "   growth   Name\n",
       "0     0.5   Paul\n",
       "1     0.7   hari\n",
       "2     1.2  ratan"
      ]
     },
     "execution_count": 9,
     "metadata": {},
     "output_type": "execute_result"
    }
   ],
   "source": [
    "pd.DataFrame([{'growth':.5,'Name':'Paul'},{'growth':.7,'Name':'hari'},{'growth':1.2,'Name':'ratan'}])"
   ]
  },
  {
   "cell_type": "markdown",
   "id": "d2f55dad",
   "metadata": {},
   "source": [
    "### A dataframe can be instantiated from a Numpy array as well . The columns names will need to be specified"
   ]
  },
  {
   "cell_type": "code",
   "execution_count": 12,
   "id": "11d34e39",
   "metadata": {},
   "outputs": [
    {
     "data": {
      "text/html": [
       "<div>\n",
       "<style scoped>\n",
       "    .dataframe tbody tr th:only-of-type {\n",
       "        vertical-align: middle;\n",
       "    }\n",
       "\n",
       "    .dataframe tbody tr th {\n",
       "        vertical-align: top;\n",
       "    }\n",
       "\n",
       "    .dataframe thead th {\n",
       "        text-align: right;\n",
       "    }\n",
       "</style>\n",
       "<table border=\"1\" class=\"dataframe\">\n",
       "  <thead>\n",
       "    <tr style=\"text-align: right;\">\n",
       "      <th></th>\n",
       "      <th>a</th>\n",
       "      <th>b</th>\n",
       "      <th>c</th>\n",
       "    </tr>\n",
       "  </thead>\n",
       "  <tbody>\n",
       "    <tr>\n",
       "      <th>0</th>\n",
       "      <td>-1.247845</td>\n",
       "      <td>-0.719911</td>\n",
       "      <td>-0.343510</td>\n",
       "    </tr>\n",
       "    <tr>\n",
       "      <th>1</th>\n",
       "      <td>0.182408</td>\n",
       "      <td>0.182630</td>\n",
       "      <td>0.161334</td>\n",
       "    </tr>\n",
       "    <tr>\n",
       "      <th>2</th>\n",
       "      <td>0.436537</td>\n",
       "      <td>0.120187</td>\n",
       "      <td>-0.329524</td>\n",
       "    </tr>\n",
       "    <tr>\n",
       "      <th>3</th>\n",
       "      <td>-0.613604</td>\n",
       "      <td>-0.797355</td>\n",
       "      <td>-1.039566</td>\n",
       "    </tr>\n",
       "    <tr>\n",
       "      <th>4</th>\n",
       "      <td>1.241051</td>\n",
       "      <td>0.195741</td>\n",
       "      <td>1.390150</td>\n",
       "    </tr>\n",
       "    <tr>\n",
       "      <th>5</th>\n",
       "      <td>0.754209</td>\n",
       "      <td>0.802152</td>\n",
       "      <td>-0.276730</td>\n",
       "    </tr>\n",
       "    <tr>\n",
       "      <th>6</th>\n",
       "      <td>0.009977</td>\n",
       "      <td>0.412557</td>\n",
       "      <td>0.487946</td>\n",
       "    </tr>\n",
       "    <tr>\n",
       "      <th>7</th>\n",
       "      <td>-0.621901</td>\n",
       "      <td>0.646829</td>\n",
       "      <td>0.360581</td>\n",
       "    </tr>\n",
       "    <tr>\n",
       "      <th>8</th>\n",
       "      <td>1.080143</td>\n",
       "      <td>0.221117</td>\n",
       "      <td>0.431686</td>\n",
       "    </tr>\n",
       "    <tr>\n",
       "      <th>9</th>\n",
       "      <td>-0.166956</td>\n",
       "      <td>0.408164</td>\n",
       "      <td>2.898825</td>\n",
       "    </tr>\n",
       "  </tbody>\n",
       "</table>\n",
       "</div>"
      ],
      "text/plain": [
       "          a         b         c\n",
       "0 -1.247845 -0.719911 -0.343510\n",
       "1  0.182408  0.182630  0.161334\n",
       "2  0.436537  0.120187 -0.329524\n",
       "3 -0.613604 -0.797355 -1.039566\n",
       "4  1.241051  0.195741  1.390150\n",
       "5  0.754209  0.802152 -0.276730\n",
       "6  0.009977  0.412557  0.487946\n",
       "7 -0.621901  0.646829  0.360581\n",
       "8  1.080143  0.221117  0.431686\n",
       "9 -0.166956  0.408164  2.898825"
      ]
     },
     "execution_count": 12,
     "metadata": {},
     "output_type": "execute_result"
    }
   ],
   "source": [
    "pd.DataFrame(np.random.randn(10,3),columns=[\"a\",\"b\",\"c\"])"
   ]
  },
  {
   "cell_type": "markdown",
   "id": "5a1b6e7a",
   "metadata": {},
   "source": [
    "### DataFrame Axis\n",
    " - There are two axis for a data Frame. They are commonly referred as to as axis 0 and 1 or the rowindex axis and columns index axis respectively"
   ]
  },
  {
   "cell_type": "code",
   "execution_count": 15,
   "id": "aafba983",
   "metadata": {},
   "outputs": [
    {
     "data": {
      "text/plain": [
       "[RangeIndex(start=0, stop=3, step=1),\n",
       " Index(['growth', 'Name'], dtype='object')]"
      ]
     },
     "execution_count": 15,
     "metadata": {},
     "output_type": "execute_result"
    }
   ],
   "source": [
    "df.axes"
   ]
  },
  {
   "cell_type": "code",
   "execution_count": 16,
   "id": "065d5e04",
   "metadata": {},
   "outputs": [
    {
     "data": {
      "text/plain": [
       "RangeIndex(start=0, stop=3, step=1)"
      ]
     },
     "execution_count": 16,
     "metadata": {},
     "output_type": "execute_result"
    }
   ],
   "source": [
    "df.axes[0]"
   ]
  },
  {
   "cell_type": "code",
   "execution_count": 19,
   "id": "3d49f56e",
   "metadata": {},
   "outputs": [
    {
     "data": {
      "text/plain": [
       "Index(['growth', 'Name'], dtype='object')"
      ]
     },
     "execution_count": 19,
     "metadata": {},
     "output_type": "execute_result"
    }
   ],
   "source": [
    "df.axes[1]"
   ]
  },
  {
   "cell_type": "markdown",
   "id": "bb22dbfd",
   "metadata": {},
   "source": [
    "#### if we want to sum up each of the columns or rows in "
   ]
  },
  {
   "cell_type": "code",
   "execution_count": 20,
   "id": "e8905a7b",
   "metadata": {},
   "outputs": [
    {
     "data": {
      "text/plain": [
       "growth             2.9\n",
       "Name      ramshyamhari\n",
       "dtype: object"
      ]
     },
     "execution_count": 20,
     "metadata": {},
     "output_type": "execute_result"
    }
   ],
   "source": [
    "df.apply(np.sum,axis=0)"
   ]
  },
  {
   "cell_type": "code",
   "execution_count": 23,
   "id": "1e3b2bc7",
   "metadata": {},
   "outputs": [],
   "source": [
    "# df.apply(np.sum,axis=1) # throws and error because of different datatype"
   ]
  },
  {
   "cell_type": "code",
   "execution_count": 24,
   "id": "287e6bfb",
   "metadata": {},
   "outputs": [
    {
     "ename": "NameError",
     "evalue": "name 'StringIO' is not defined",
     "output_type": "error",
     "traceback": [
      "\u001b[1;31m---------------------------------------------------------------------------\u001b[0m",
      "\u001b[1;31mNameError\u001b[0m                                 Traceback (most recent call last)",
      "Cell \u001b[1;32mIn[24], line 1\u001b[0m\n\u001b[1;32m----> 1\u001b[0m data \u001b[38;5;241m=\u001b[39m StringIO(\u001b[38;5;124m'''\u001b[39m\u001b[38;5;124mLOCATION,MILES,ELEVATION,CUMUL,\u001b[39m\u001b[38;5;124m%\u001b[39m\u001b[38;5;124m CUMUL GAIN\u001b[39m\n\u001b[0;32m      2\u001b[0m \u001b[38;5;124mBig Mountain Pass Aid Station,39.07,7432,11579,43.8\u001b[39m\u001b[38;5;124m%\u001b[39m\n\u001b[0;32m      3\u001b[0m \u001b[38;5;124mMules Ear Meadow,40.75,7478,12008,45.4\u001b[39m\u001b[38;5;124m%\u001b[39m\n\u001b[0;32m      4\u001b[0m \u001b[38;5;124mBald Mountain,42.46,7869,12593,47.6\u001b[39m\u001b[38;5;124m%\u001b[39m\n\u001b[0;32m      5\u001b[0m \u001b[38;5;124m98\u001b[39m\n\u001b[0;32m      6\u001b[0m \u001b[38;5;124mPence Point,43.99,7521,12813,48.4\u001b[39m\u001b[38;5;124m%\u001b[39m\n\u001b[0;32m      7\u001b[0m \u001b[38;5;124mAlexander Ridge Aid Station,46.9,6160,13169,49.8\u001b[39m\u001b[38;5;124m%\u001b[39m\n\u001b[0;32m      8\u001b[0m \u001b[38;5;124mAlexander Springs,47.97,5956,13319,50.3\u001b[39m\u001b[38;5;124m%\u001b[39m\n\u001b[0;32m      9\u001b[0m \u001b[38;5;124mRogers Trail junction,49.52,6698,13967,52.8\u001b[39m\u001b[38;5;124m%\u001b[39m\n\u001b[0;32m     10\u001b[0m \u001b[38;5;124mRogers Saddle,49.77,6790,14073,53.2\u001b[39m\u001b[38;5;124m%\u001b[39m\n\u001b[0;32m     11\u001b[0m \u001b[38;5;124mRailroad Bed,50.15,6520,,\u001b[39m\n\u001b[0;32m     12\u001b[0m \u001b[38;5;124mLambs Canyon Underpass Aid Station,52.48,6111,14329,54.2\u001b[39m\u001b[38;5;124m%\u001b[39m\u001b[38;5;124m'''\u001b[39m)\n",
      "\u001b[1;31mNameError\u001b[0m: name 'StringIO' is not defined"
     ]
    }
   ],
   "source": []
  },
  {
   "cell_type": "markdown",
   "id": "c83b2559",
   "metadata": {},
   "source": [
    "## DataFrame Example"
   ]
  },
  {
   "cell_type": "code",
   "execution_count": 97,
   "id": "18059123",
   "metadata": {},
   "outputs": [],
   "source": [
    "data = StringIO('''LOCATION,MILES,ELEVATION,CUMUL,% CUMUL GAIN\n",
    "... Big Mountain Pass Aid Station,39.07,7432,11579,43.8%\n",
    "... Mules Ear Meadow,40.75,7478,12008,45.4%\n",
    "... Bald Mountain,42.46,7869,12593,47.6%\n",
    "98\n",
    "... Pence Point,43.99,7521,12813,48.4%\n",
    "... Alexander Ridge Aid Station,46.9,6160,13169,49.8%\n",
    "... Alexander Springs,47.97,5956,13319,50.3%\n",
    "... Rogers Trail junction,49.52,6698,13967,52.8%\n",
    "... Rogers Saddle,49.77,6790,14073,53.2%\n",
    "... Railroad Bed,50.15,6520,,\n",
    "... Lambs Canyon Underpass Aid Station,52.48,6111,14329,54.2%''')"
   ]
  },
  {
   "cell_type": "code",
   "execution_count": 98,
   "id": "d450a1a9",
   "metadata": {},
   "outputs": [],
   "source": [
    "df=pd.read_csv(data)"
   ]
  },
  {
   "cell_type": "code",
   "execution_count": 29,
   "id": "e7cc64b2",
   "metadata": {},
   "outputs": [
    {
     "data": {
      "text/html": [
       "<div>\n",
       "<style scoped>\n",
       "    .dataframe tbody tr th:only-of-type {\n",
       "        vertical-align: middle;\n",
       "    }\n",
       "\n",
       "    .dataframe tbody tr th {\n",
       "        vertical-align: top;\n",
       "    }\n",
       "\n",
       "    .dataframe thead th {\n",
       "        text-align: right;\n",
       "    }\n",
       "</style>\n",
       "<table border=\"1\" class=\"dataframe\">\n",
       "  <thead>\n",
       "    <tr style=\"text-align: right;\">\n",
       "      <th></th>\n",
       "      <th>LOCATION</th>\n",
       "      <th>MILES</th>\n",
       "      <th>ELEVATION</th>\n",
       "      <th>CUMUL</th>\n",
       "      <th>% CUMUL GAIN</th>\n",
       "    </tr>\n",
       "  </thead>\n",
       "  <tbody>\n",
       "    <tr>\n",
       "      <th>0</th>\n",
       "      <td>Big Mountain Pass Aid Station</td>\n",
       "      <td>39.07</td>\n",
       "      <td>7432.0</td>\n",
       "      <td>11579.0</td>\n",
       "      <td>43.8%</td>\n",
       "    </tr>\n",
       "    <tr>\n",
       "      <th>1</th>\n",
       "      <td>Mules Ear Meadow</td>\n",
       "      <td>40.75</td>\n",
       "      <td>7478.0</td>\n",
       "      <td>12008.0</td>\n",
       "      <td>45.4%</td>\n",
       "    </tr>\n",
       "    <tr>\n",
       "      <th>2</th>\n",
       "      <td>Bald Mountain</td>\n",
       "      <td>42.46</td>\n",
       "      <td>7869.0</td>\n",
       "      <td>12593.0</td>\n",
       "      <td>47.6%</td>\n",
       "    </tr>\n",
       "    <tr>\n",
       "      <th>3</th>\n",
       "      <td>98</td>\n",
       "      <td>NaN</td>\n",
       "      <td>NaN</td>\n",
       "      <td>NaN</td>\n",
       "      <td>NaN</td>\n",
       "    </tr>\n",
       "    <tr>\n",
       "      <th>4</th>\n",
       "      <td>Pence Point</td>\n",
       "      <td>43.99</td>\n",
       "      <td>7521.0</td>\n",
       "      <td>12813.0</td>\n",
       "      <td>48.4%</td>\n",
       "    </tr>\n",
       "    <tr>\n",
       "      <th>5</th>\n",
       "      <td>Alexander Ridge Aid Station</td>\n",
       "      <td>46.90</td>\n",
       "      <td>6160.0</td>\n",
       "      <td>13169.0</td>\n",
       "      <td>49.8%</td>\n",
       "    </tr>\n",
       "    <tr>\n",
       "      <th>6</th>\n",
       "      <td>Alexander Springs</td>\n",
       "      <td>47.97</td>\n",
       "      <td>5956.0</td>\n",
       "      <td>13319.0</td>\n",
       "      <td>50.3%</td>\n",
       "    </tr>\n",
       "    <tr>\n",
       "      <th>7</th>\n",
       "      <td>Rogers Trail junction</td>\n",
       "      <td>49.52</td>\n",
       "      <td>6698.0</td>\n",
       "      <td>13967.0</td>\n",
       "      <td>52.8%</td>\n",
       "    </tr>\n",
       "    <tr>\n",
       "      <th>8</th>\n",
       "      <td>Rogers Saddle</td>\n",
       "      <td>49.77</td>\n",
       "      <td>6790.0</td>\n",
       "      <td>14073.0</td>\n",
       "      <td>53.2%</td>\n",
       "    </tr>\n",
       "    <tr>\n",
       "      <th>9</th>\n",
       "      <td>Railroad Bed</td>\n",
       "      <td>50.15</td>\n",
       "      <td>6520.0</td>\n",
       "      <td>NaN</td>\n",
       "      <td>NaN</td>\n",
       "    </tr>\n",
       "    <tr>\n",
       "      <th>10</th>\n",
       "      <td>Lambs Canyon Underpass Aid Station</td>\n",
       "      <td>52.48</td>\n",
       "      <td>6111.0</td>\n",
       "      <td>14329.0</td>\n",
       "      <td>54.2%</td>\n",
       "    </tr>\n",
       "  </tbody>\n",
       "</table>\n",
       "</div>"
      ],
      "text/plain": [
       "                              LOCATION  MILES  ELEVATION    CUMUL % CUMUL GAIN\n",
       "0        Big Mountain Pass Aid Station  39.07     7432.0  11579.0        43.8%\n",
       "1                     Mules Ear Meadow  40.75     7478.0  12008.0        45.4%\n",
       "2                        Bald Mountain  42.46     7869.0  12593.0        47.6%\n",
       "3                                   98    NaN        NaN      NaN          NaN\n",
       "4                          Pence Point  43.99     7521.0  12813.0        48.4%\n",
       "5          Alexander Ridge Aid Station  46.90     6160.0  13169.0        49.8%\n",
       "6                    Alexander Springs  47.97     5956.0  13319.0        50.3%\n",
       "7                Rogers Trail junction  49.52     6698.0  13967.0        52.8%\n",
       "8                        Rogers Saddle  49.77     6790.0  14073.0        53.2%\n",
       "9                         Railroad Bed  50.15     6520.0      NaN          NaN\n",
       "10  Lambs Canyon Underpass Aid Station  52.48     6111.0  14329.0        54.2%"
      ]
     },
     "execution_count": 29,
     "metadata": {},
     "output_type": "execute_result"
    }
   ],
   "source": [
    "df"
   ]
  },
  {
   "cell_type": "markdown",
   "id": "1fff8740",
   "metadata": {},
   "source": [
    "### Looking at the data"
   ]
  },
  {
   "cell_type": "code",
   "execution_count": 31,
   "id": "6617a654",
   "metadata": {},
   "outputs": [
    {
     "data": {
      "text/html": [
       "<div>\n",
       "<style scoped>\n",
       "    .dataframe tbody tr th:only-of-type {\n",
       "        vertical-align: middle;\n",
       "    }\n",
       "\n",
       "    .dataframe tbody tr th {\n",
       "        vertical-align: top;\n",
       "    }\n",
       "\n",
       "    .dataframe thead th {\n",
       "        text-align: right;\n",
       "    }\n",
       "</style>\n",
       "<table border=\"1\" class=\"dataframe\">\n",
       "  <thead>\n",
       "    <tr style=\"text-align: right;\">\n",
       "      <th></th>\n",
       "      <th>MILES</th>\n",
       "      <th>ELEVATION</th>\n",
       "      <th>CUMUL</th>\n",
       "    </tr>\n",
       "  </thead>\n",
       "  <tbody>\n",
       "    <tr>\n",
       "      <th>count</th>\n",
       "      <td>10.000000</td>\n",
       "      <td>10.000000</td>\n",
       "      <td>9.000000</td>\n",
       "    </tr>\n",
       "    <tr>\n",
       "      <th>mean</th>\n",
       "      <td>46.306000</td>\n",
       "      <td>6853.500000</td>\n",
       "      <td>13094.444444</td>\n",
       "    </tr>\n",
       "    <tr>\n",
       "      <th>std</th>\n",
       "      <td>4.493574</td>\n",
       "      <td>681.391428</td>\n",
       "      <td>942.511686</td>\n",
       "    </tr>\n",
       "    <tr>\n",
       "      <th>min</th>\n",
       "      <td>39.070000</td>\n",
       "      <td>5956.000000</td>\n",
       "      <td>11579.000000</td>\n",
       "    </tr>\n",
       "    <tr>\n",
       "      <th>25%</th>\n",
       "      <td>42.842500</td>\n",
       "      <td>6250.000000</td>\n",
       "      <td>12593.000000</td>\n",
       "    </tr>\n",
       "    <tr>\n",
       "      <th>50%</th>\n",
       "      <td>47.435000</td>\n",
       "      <td>6744.000000</td>\n",
       "      <td>13169.000000</td>\n",
       "    </tr>\n",
       "    <tr>\n",
       "      <th>75%</th>\n",
       "      <td>49.707500</td>\n",
       "      <td>7466.500000</td>\n",
       "      <td>13967.000000</td>\n",
       "    </tr>\n",
       "    <tr>\n",
       "      <th>max</th>\n",
       "      <td>52.480000</td>\n",
       "      <td>7869.000000</td>\n",
       "      <td>14329.000000</td>\n",
       "    </tr>\n",
       "  </tbody>\n",
       "</table>\n",
       "</div>"
      ],
      "text/plain": [
       "           MILES    ELEVATION         CUMUL\n",
       "count  10.000000    10.000000      9.000000\n",
       "mean   46.306000  6853.500000  13094.444444\n",
       "std     4.493574   681.391428    942.511686\n",
       "min    39.070000  5956.000000  11579.000000\n",
       "25%    42.842500  6250.000000  12593.000000\n",
       "50%    47.435000  6744.000000  13169.000000\n",
       "75%    49.707500  7466.500000  13967.000000\n",
       "max    52.480000  7869.000000  14329.000000"
      ]
     },
     "execution_count": 31,
     "metadata": {},
     "output_type": "execute_result"
    }
   ],
   "source": [
    "df.describe()"
   ]
  },
  {
   "cell_type": "code",
   "execution_count": 37,
   "id": "a4d3038d",
   "metadata": {},
   "outputs": [
    {
     "data": {
      "text/plain": [
       "11"
      ]
     },
     "execution_count": 37,
     "metadata": {},
     "output_type": "execute_result"
    }
   ],
   "source": [
    "df['LOCATION'].nunique()"
   ]
  },
  {
   "cell_type": "code",
   "execution_count": 38,
   "id": "9aeb1f9a",
   "metadata": {},
   "outputs": [
    {
     "data": {
      "text/plain": [
       "Big Mountain Pass Aid Station         1\n",
       "Mules Ear Meadow                      1\n",
       "Bald Mountain                         1\n",
       "98                                    1\n",
       "Pence Point                           1\n",
       "Alexander Ridge Aid Station           1\n",
       "Alexander Springs                     1\n",
       "Rogers Trail junction                 1\n",
       "Rogers Saddle                         1\n",
       "Railroad Bed                          1\n",
       "Lambs Canyon Underpass Aid Station    1\n",
       "Name: LOCATION, dtype: int64"
      ]
     },
     "execution_count": 38,
     "metadata": {},
     "output_type": "execute_result"
    }
   ],
   "source": [
    "df['LOCATION'].value_counts()"
   ]
  },
  {
   "cell_type": "markdown",
   "id": "fef453e1",
   "metadata": {},
   "source": [
    "#### The Pearson correlation coefficient, often denoted as \\(r\\), is a statistical measure that quantifies the strength and direction of a linear relationship between two continuous variables. It assesses how well the relationship between the variables can be described by a straight line.\n",
    "\n",
    "The formula for calculating the Pearson correlation coefficient between two variables \\(X\\) and \\(Y\\) is as follows:\n",
    "\n",
    "\\[r = \\frac{\\sum{(X_i - \\bar{X})(Y_i - \\bar{Y})}}{\\sqrt{\\sum{(X_i - \\bar{X})^2}\\sum{(Y_i - \\bar{Y})^2}}}\\]\n",
    "\n",
    "Where:\n",
    "- \\(X_i\\) and \\(Y_i\\) are individual data points.\n",
    "- \\(\\bar{X}\\) and \\(\\bar{Y}\\) are the means (averages) of \\(X\\) and \\(Y\\) respectively.\n",
    "- The summation symbol \\(\\sum\\) represents the sum of the values over all data points.\n",
    "\n",
    "Key points to note about the Pearson correlation coefficient:\n",
    "\n",
    "1. Range: The Pearson correlation coefficient ranges from -1 to 1.\n",
    "   - \\(r = 1\\) indicates a perfect positive linear relationship (as \\(X\\) increases, \\(Y\\) increases proportionally).\n",
    "   - \\(r = -1\\) indicates a perfect negative linear relationship (as \\(X\\) increases, \\(Y\\) decreases proportionally).\n",
    "   - \\(r = 0\\) indicates no linear relationship (no correlation).\n",
    "\n",
    "2. Direction:\n",
    "   - A positive \\(r\\) indicates a positive correlation (both variables tend to increase together).\n",
    "   - A negative \\(r\\) indicates a negative correlation (one variable tends to increase as the other decreases).\n",
    "\n",
    "3. Strength: The absolute value of \\(r\\) indicates the strength of the correlation. Closer to 1 (either positive or negative) suggests a stronger linear relationship, while closer to 0 suggests a weaker linear relationship.\n",
    "\n",
    "4. Assumptions: The Pearson correlation coefficient assumes that the relationship between the variables is linear, and it may not accurately capture non-linear relationships.\n",
    "\n",
    "5. Sensitivity to Outliers: Pearson's correlation can be sensitive to outliers, meaning that a few extreme data points can disproportionately influence the value of \\(r\\).\n",
    "\n",
    "Pearson correlation is widely used in various fields, including statistics, economics, social sciences, and data analysis, to assess the linear association between two continuous variables. It helps researchers and analysts understand the extent to which changes in one variable are associated with changes in another."
   ]
  },
  {
   "cell_type": "code",
   "execution_count": 40,
   "id": "ac3ff0d9",
   "metadata": {},
   "outputs": [
    {
     "name": "stderr",
     "output_type": "stream",
     "text": [
      "C:\\Users\\puzan12\\AppData\\Local\\Temp\\ipykernel_8248\\1134722465.py:1: FutureWarning: The default value of numeric_only in DataFrame.corr is deprecated. In a future version, it will default to False. Select only valid columns or specify the value of numeric_only to silence this warning.\n",
      "  df.corr()\n"
     ]
    },
    {
     "data": {
      "text/html": [
       "<div>\n",
       "<style scoped>\n",
       "    .dataframe tbody tr th:only-of-type {\n",
       "        vertical-align: middle;\n",
       "    }\n",
       "\n",
       "    .dataframe tbody tr th {\n",
       "        vertical-align: top;\n",
       "    }\n",
       "\n",
       "    .dataframe thead th {\n",
       "        text-align: right;\n",
       "    }\n",
       "</style>\n",
       "<table border=\"1\" class=\"dataframe\">\n",
       "  <thead>\n",
       "    <tr style=\"text-align: right;\">\n",
       "      <th></th>\n",
       "      <th>MILES</th>\n",
       "      <th>ELEVATION</th>\n",
       "      <th>CUMUL</th>\n",
       "    </tr>\n",
       "  </thead>\n",
       "  <tbody>\n",
       "    <tr>\n",
       "      <th>MILES</th>\n",
       "      <td>1.000000</td>\n",
       "      <td>-0.783780</td>\n",
       "      <td>0.986613</td>\n",
       "    </tr>\n",
       "    <tr>\n",
       "      <th>ELEVATION</th>\n",
       "      <td>-0.783780</td>\n",
       "      <td>1.000000</td>\n",
       "      <td>-0.674333</td>\n",
       "    </tr>\n",
       "    <tr>\n",
       "      <th>CUMUL</th>\n",
       "      <td>0.986613</td>\n",
       "      <td>-0.674333</td>\n",
       "      <td>1.000000</td>\n",
       "    </tr>\n",
       "  </tbody>\n",
       "</table>\n",
       "</div>"
      ],
      "text/plain": [
       "              MILES  ELEVATION     CUMUL\n",
       "MILES      1.000000  -0.783780  0.986613\n",
       "ELEVATION -0.783780   1.000000 -0.674333\n",
       "CUMUL      0.986613  -0.674333  1.000000"
      ]
     },
     "execution_count": 40,
     "metadata": {},
     "output_type": "execute_result"
    }
   ],
   "source": [
    "df.corr()"
   ]
  },
  {
   "cell_type": "markdown",
   "id": "fd80b7d8",
   "metadata": {},
   "source": [
    "### plotting with DataFrames"
   ]
  },
  {
   "cell_type": "code",
   "execution_count": 48,
   "id": "2056acc5",
   "metadata": {},
   "outputs": [
    {
     "data": {
      "text/plain": [
       "<Axes: >"
      ]
     },
     "execution_count": 48,
     "metadata": {},
     "output_type": "execute_result"
    },
    {
     "data": {
      "image/png": "[encoded data removed]",
      "text/plain": [
       "<Figure size 640x480 with 1 Axes>"
      ]
     },
     "metadata": {},
     "output_type": "display_data"
    }
   ],
   "source": [
    "fig=plt.figure()\n",
    "axis=fig.add_subplot(111)\n",
    "df.plot(ax=axis)\n"
   ]
  },
  {
   "cell_type": "code",
   "execution_count": 56,
   "id": "869a169b",
   "metadata": {},
   "outputs": [
    {
     "data": {
      "text/plain": [
       "Text(0, 0.5, 'Distance')"
      ]
     },
     "execution_count": 56,
     "metadata": {},
     "output_type": "execute_result"
    },
    {
     "data": {
      "image/png": "[encoded data removed]",
      "text/plain": [
       "<Figure size 640x480 with 2 Axes>"
      ]
     },
     "metadata": {},
     "output_type": "display_data"
    }
   ],
   "source": [
    "fig=plt.figure()\n",
    "ax=fig.add_subplot(111) # 1 rows 1 columns last 1 represent index of the subplot \n",
    "df[['CUMUL','ELEVATION']].plot(ax=ax,linestyle='dashdot')\n",
    "df['MILES'].plot(secondary_y=True)\n",
    "ax.set_ylabel('Elevation')\n",
    "ax.right_ax.set_ylabel('Distance')"
   ]
  },
  {
   "cell_type": "markdown",
   "id": "bec4edf2",
   "metadata": {},
   "source": [
    "-  the use of double brackets is a pandas convention to indicate that you're performing column selection and allows you to select multiple columns simultaneously."
   ]
  },
  {
   "cell_type": "code",
   "execution_count": 51,
   "id": "8172ebfa",
   "metadata": {},
   "outputs": [
    {
     "data": {
      "text/html": [
       "<div>\n",
       "<style scoped>\n",
       "    .dataframe tbody tr th:only-of-type {\n",
       "        vertical-align: middle;\n",
       "    }\n",
       "\n",
       "    .dataframe tbody tr th {\n",
       "        vertical-align: top;\n",
       "    }\n",
       "\n",
       "    .dataframe thead th {\n",
       "        text-align: right;\n",
       "    }\n",
       "</style>\n",
       "<table border=\"1\" class=\"dataframe\">\n",
       "  <thead>\n",
       "    <tr style=\"text-align: right;\">\n",
       "      <th></th>\n",
       "      <th>CUMUL</th>\n",
       "      <th>ELEVATION</th>\n",
       "    </tr>\n",
       "  </thead>\n",
       "  <tbody>\n",
       "    <tr>\n",
       "      <th>0</th>\n",
       "      <td>11579.0</td>\n",
       "      <td>7432.0</td>\n",
       "    </tr>\n",
       "    <tr>\n",
       "      <th>1</th>\n",
       "      <td>12008.0</td>\n",
       "      <td>7478.0</td>\n",
       "    </tr>\n",
       "    <tr>\n",
       "      <th>2</th>\n",
       "      <td>12593.0</td>\n",
       "      <td>7869.0</td>\n",
       "    </tr>\n",
       "    <tr>\n",
       "      <th>3</th>\n",
       "      <td>NaN</td>\n",
       "      <td>NaN</td>\n",
       "    </tr>\n",
       "    <tr>\n",
       "      <th>4</th>\n",
       "      <td>12813.0</td>\n",
       "      <td>7521.0</td>\n",
       "    </tr>\n",
       "    <tr>\n",
       "      <th>5</th>\n",
       "      <td>13169.0</td>\n",
       "      <td>6160.0</td>\n",
       "    </tr>\n",
       "    <tr>\n",
       "      <th>6</th>\n",
       "      <td>13319.0</td>\n",
       "      <td>5956.0</td>\n",
       "    </tr>\n",
       "    <tr>\n",
       "      <th>7</th>\n",
       "      <td>13967.0</td>\n",
       "      <td>6698.0</td>\n",
       "    </tr>\n",
       "    <tr>\n",
       "      <th>8</th>\n",
       "      <td>14073.0</td>\n",
       "      <td>6790.0</td>\n",
       "    </tr>\n",
       "    <tr>\n",
       "      <th>9</th>\n",
       "      <td>NaN</td>\n",
       "      <td>6520.0</td>\n",
       "    </tr>\n",
       "    <tr>\n",
       "      <th>10</th>\n",
       "      <td>14329.0</td>\n",
       "      <td>6111.0</td>\n",
       "    </tr>\n",
       "  </tbody>\n",
       "</table>\n",
       "</div>"
      ],
      "text/plain": [
       "      CUMUL  ELEVATION\n",
       "0   11579.0     7432.0\n",
       "1   12008.0     7478.0\n",
       "2   12593.0     7869.0\n",
       "3       NaN        NaN\n",
       "4   12813.0     7521.0\n",
       "5   13169.0     6160.0\n",
       "6   13319.0     5956.0\n",
       "7   13967.0     6698.0\n",
       "8   14073.0     6790.0\n",
       "9       NaN     6520.0\n",
       "10  14329.0     6111.0"
      ]
     },
     "execution_count": 51,
     "metadata": {},
     "output_type": "execute_result"
    }
   ],
   "source": [
    "df[['CUMUL',\"ELEVATION\"]] # "
   ]
  },
  {
   "cell_type": "markdown",
   "id": "084b2888",
   "metadata": {},
   "source": [
    "### Adding Rows"
   ]
  },
  {
   "cell_type": "code",
   "execution_count": 59,
   "id": "21216411",
   "metadata": {},
   "outputs": [],
   "source": [
    "df2=pd.DataFrame([('Damak',34.14,6628,14805,'56.06%')],columns=['LOCATION','MILES','ELEVATION','CUMUL','% CUMUL GAIN'])"
   ]
  },
  {
   "cell_type": "code",
   "execution_count": 69,
   "id": "8a3b9579",
   "metadata": {},
   "outputs": [
    {
     "name": "stdout",
     "output_type": "stream",
     "text": [
      "                              LOCATION  MILES  ELEVATION  \\\n",
      "0        Big Mountain Pass Aid Station  39.07     7432.0   \n",
      "1                     Mules Ear Meadow  40.75     7478.0   \n",
      "2                        Bald Mountain  42.46     7869.0   \n",
      "3                                   98    NaN        NaN   \n",
      "4                          Pence Point  43.99     7521.0   \n",
      "5          Alexander Ridge Aid Station  46.90     6160.0   \n",
      "6                    Alexander Springs  47.97     5956.0   \n",
      "7                Rogers Trail junction  49.52     6698.0   \n",
      "8                        Rogers Saddle  49.77     6790.0   \n",
      "9                         Railroad Bed  50.15     6520.0   \n",
      "10  Lambs Canyon Underpass Aid Station  52.48     6111.0   \n",
      "11                               Damak  34.14     6628.0   \n",
      "\n",
      "      CUMUL % CUMUL GAIN  \n",
      "0   11579.0        43.8%  \n",
      "1   12008.0        45.4%  \n",
      "2   12593.0        47.6%  \n",
      "3       NaN          NaN  \n",
      "4   12813.0        48.4%  \n",
      "5   13169.0        49.8%  \n",
      "6   13319.0        50.3%  \n",
      "7   13967.0        52.8%  \n",
      "8   14073.0        53.2%  \n",
      "9       NaN          NaN  \n",
      "10  14329.0        54.2%  \n",
      "11  14805.0       56.06%  \n"
     ]
    }
   ],
   "source": [
    "print(pd.concat([df,df2],ignore_index=True).to_string(line_width=60))"
   ]
  },
  {
   "cell_type": "markdown",
   "id": "fe7f3a26",
   "metadata": {},
   "source": [
    "### Adding Columns"
   ]
  },
  {
   "cell_type": "code",
   "execution_count": 101,
   "id": "4bd1ba51",
   "metadata": {},
   "outputs": [],
   "source": [
    "df['Bogus']=pd.Series(np.random.randint(0,21,11))"
   ]
  },
  {
   "cell_type": "code",
   "execution_count": 78,
   "id": "c5a91866",
   "metadata": {},
   "outputs": [
    {
     "data": {
      "text/html": [
       "<div>\n",
       "<style scoped>\n",
       "    .dataframe tbody tr th:only-of-type {\n",
       "        vertical-align: middle;\n",
       "    }\n",
       "\n",
       "    .dataframe tbody tr th {\n",
       "        vertical-align: top;\n",
       "    }\n",
       "\n",
       "    .dataframe thead th {\n",
       "        text-align: right;\n",
       "    }\n",
       "</style>\n",
       "<table border=\"1\" class=\"dataframe\">\n",
       "  <thead>\n",
       "    <tr style=\"text-align: right;\">\n",
       "      <th></th>\n",
       "      <th>LOCATION</th>\n",
       "      <th>MILES</th>\n",
       "      <th>ELEVATION</th>\n",
       "      <th>CUMUL</th>\n",
       "      <th>% CUMUL GAIN</th>\n",
       "      <th>bogus</th>\n",
       "      <th>Bogus</th>\n",
       "    </tr>\n",
       "  </thead>\n",
       "  <tbody>\n",
       "    <tr>\n",
       "      <th>0</th>\n",
       "      <td>Big Mountain Pass Aid Station</td>\n",
       "      <td>39.07</td>\n",
       "      <td>7432.0</td>\n",
       "      <td>11579.0</td>\n",
       "      <td>43.8%</td>\n",
       "      <td>2</td>\n",
       "      <td>15</td>\n",
       "    </tr>\n",
       "    <tr>\n",
       "      <th>1</th>\n",
       "      <td>Mules Ear Meadow</td>\n",
       "      <td>40.75</td>\n",
       "      <td>7478.0</td>\n",
       "      <td>12008.0</td>\n",
       "      <td>45.4%</td>\n",
       "      <td>19</td>\n",
       "      <td>0</td>\n",
       "    </tr>\n",
       "    <tr>\n",
       "      <th>2</th>\n",
       "      <td>Bald Mountain</td>\n",
       "      <td>42.46</td>\n",
       "      <td>7869.0</td>\n",
       "      <td>12593.0</td>\n",
       "      <td>47.6%</td>\n",
       "      <td>0</td>\n",
       "      <td>12</td>\n",
       "    </tr>\n",
       "    <tr>\n",
       "      <th>3</th>\n",
       "      <td>98</td>\n",
       "      <td>NaN</td>\n",
       "      <td>NaN</td>\n",
       "      <td>NaN</td>\n",
       "      <td>NaN</td>\n",
       "      <td>4</td>\n",
       "      <td>6</td>\n",
       "    </tr>\n",
       "    <tr>\n",
       "      <th>4</th>\n",
       "      <td>Pence Point</td>\n",
       "      <td>43.99</td>\n",
       "      <td>7521.0</td>\n",
       "      <td>12813.0</td>\n",
       "      <td>48.4%</td>\n",
       "      <td>7</td>\n",
       "      <td>11</td>\n",
       "    </tr>\n",
       "    <tr>\n",
       "      <th>5</th>\n",
       "      <td>Alexander Ridge Aid Station</td>\n",
       "      <td>46.90</td>\n",
       "      <td>6160.0</td>\n",
       "      <td>13169.0</td>\n",
       "      <td>49.8%</td>\n",
       "      <td>3</td>\n",
       "      <td>18</td>\n",
       "    </tr>\n",
       "    <tr>\n",
       "      <th>6</th>\n",
       "      <td>Alexander Springs</td>\n",
       "      <td>47.97</td>\n",
       "      <td>5956.0</td>\n",
       "      <td>13319.0</td>\n",
       "      <td>50.3%</td>\n",
       "      <td>15</td>\n",
       "      <td>7</td>\n",
       "    </tr>\n",
       "    <tr>\n",
       "      <th>7</th>\n",
       "      <td>Rogers Trail junction</td>\n",
       "      <td>49.52</td>\n",
       "      <td>6698.0</td>\n",
       "      <td>13967.0</td>\n",
       "      <td>52.8%</td>\n",
       "      <td>11</td>\n",
       "      <td>18</td>\n",
       "    </tr>\n",
       "    <tr>\n",
       "      <th>8</th>\n",
       "      <td>Rogers Saddle</td>\n",
       "      <td>49.77</td>\n",
       "      <td>6790.0</td>\n",
       "      <td>14073.0</td>\n",
       "      <td>53.2%</td>\n",
       "      <td>0</td>\n",
       "      <td>13</td>\n",
       "    </tr>\n",
       "    <tr>\n",
       "      <th>9</th>\n",
       "      <td>Railroad Bed</td>\n",
       "      <td>50.15</td>\n",
       "      <td>6520.0</td>\n",
       "      <td>NaN</td>\n",
       "      <td>NaN</td>\n",
       "      <td>11</td>\n",
       "      <td>1</td>\n",
       "    </tr>\n",
       "    <tr>\n",
       "      <th>10</th>\n",
       "      <td>Lambs Canyon Underpass Aid Station</td>\n",
       "      <td>52.48</td>\n",
       "      <td>6111.0</td>\n",
       "      <td>14329.0</td>\n",
       "      <td>54.2%</td>\n",
       "      <td>17</td>\n",
       "      <td>19</td>\n",
       "    </tr>\n",
       "  </tbody>\n",
       "</table>\n",
       "</div>"
      ],
      "text/plain": [
       "                              LOCATION  MILES  ELEVATION    CUMUL  \\\n",
       "0        Big Mountain Pass Aid Station  39.07     7432.0  11579.0   \n",
       "1                     Mules Ear Meadow  40.75     7478.0  12008.0   \n",
       "2                        Bald Mountain  42.46     7869.0  12593.0   \n",
       "3                                   98    NaN        NaN      NaN   \n",
       "4                          Pence Point  43.99     7521.0  12813.0   \n",
       "5          Alexander Ridge Aid Station  46.90     6160.0  13169.0   \n",
       "6                    Alexander Springs  47.97     5956.0  13319.0   \n",
       "7                Rogers Trail junction  49.52     6698.0  13967.0   \n",
       "8                        Rogers Saddle  49.77     6790.0  14073.0   \n",
       "9                         Railroad Bed  50.15     6520.0      NaN   \n",
       "10  Lambs Canyon Underpass Aid Station  52.48     6111.0  14329.0   \n",
       "\n",
       "   % CUMUL GAIN  bogus  Bogus  \n",
       "0         43.8%      2     15  \n",
       "1         45.4%     19      0  \n",
       "2         47.6%      0     12  \n",
       "3           NaN      4      6  \n",
       "4         48.4%      7     11  \n",
       "5         49.8%      3     18  \n",
       "6         50.3%     15      7  \n",
       "7         52.8%     11     18  \n",
       "8         53.2%      0     13  \n",
       "9           NaN     11      1  \n",
       "10        54.2%     17     19  "
      ]
     },
     "execution_count": 78,
     "metadata": {},
     "output_type": "execute_result"
    }
   ],
   "source": [
    "df"
   ]
  },
  {
   "cell_type": "code",
   "execution_count": 79,
   "id": "a0f4af4b",
   "metadata": {},
   "outputs": [],
   "source": [
    "def addstation(val):\n",
    "    return 'Station' in val\n"
   ]
  },
  {
   "cell_type": "code",
   "execution_count": 100,
   "id": "8c4263ed",
   "metadata": {},
   "outputs": [],
   "source": [
    "df[\"Station\"]=df['LOCATION'].apply(addstation)"
   ]
  },
  {
   "cell_type": "code",
   "execution_count": 81,
   "id": "0933419b",
   "metadata": {},
   "outputs": [
    {
     "data": {
      "text/html": [
       "<div>\n",
       "<style scoped>\n",
       "    .dataframe tbody tr th:only-of-type {\n",
       "        vertical-align: middle;\n",
       "    }\n",
       "\n",
       "    .dataframe tbody tr th {\n",
       "        vertical-align: top;\n",
       "    }\n",
       "\n",
       "    .dataframe thead th {\n",
       "        text-align: right;\n",
       "    }\n",
       "</style>\n",
       "<table border=\"1\" class=\"dataframe\">\n",
       "  <thead>\n",
       "    <tr style=\"text-align: right;\">\n",
       "      <th></th>\n",
       "      <th>LOCATION</th>\n",
       "      <th>MILES</th>\n",
       "      <th>ELEVATION</th>\n",
       "      <th>CUMUL</th>\n",
       "      <th>% CUMUL GAIN</th>\n",
       "      <th>bogus</th>\n",
       "      <th>Bogus</th>\n",
       "      <th>Station</th>\n",
       "    </tr>\n",
       "  </thead>\n",
       "  <tbody>\n",
       "    <tr>\n",
       "      <th>0</th>\n",
       "      <td>Big Mountain Pass Aid Station</td>\n",
       "      <td>39.07</td>\n",
       "      <td>7432.0</td>\n",
       "      <td>11579.0</td>\n",
       "      <td>43.8%</td>\n",
       "      <td>2</td>\n",
       "      <td>15</td>\n",
       "      <td>True</td>\n",
       "    </tr>\n",
       "    <tr>\n",
       "      <th>1</th>\n",
       "      <td>Mules Ear Meadow</td>\n",
       "      <td>40.75</td>\n",
       "      <td>7478.0</td>\n",
       "      <td>12008.0</td>\n",
       "      <td>45.4%</td>\n",
       "      <td>19</td>\n",
       "      <td>0</td>\n",
       "      <td>False</td>\n",
       "    </tr>\n",
       "    <tr>\n",
       "      <th>2</th>\n",
       "      <td>Bald Mountain</td>\n",
       "      <td>42.46</td>\n",
       "      <td>7869.0</td>\n",
       "      <td>12593.0</td>\n",
       "      <td>47.6%</td>\n",
       "      <td>0</td>\n",
       "      <td>12</td>\n",
       "      <td>False</td>\n",
       "    </tr>\n",
       "    <tr>\n",
       "      <th>3</th>\n",
       "      <td>98</td>\n",
       "      <td>NaN</td>\n",
       "      <td>NaN</td>\n",
       "      <td>NaN</td>\n",
       "      <td>NaN</td>\n",
       "      <td>4</td>\n",
       "      <td>6</td>\n",
       "      <td>False</td>\n",
       "    </tr>\n",
       "    <tr>\n",
       "      <th>4</th>\n",
       "      <td>Pence Point</td>\n",
       "      <td>43.99</td>\n",
       "      <td>7521.0</td>\n",
       "      <td>12813.0</td>\n",
       "      <td>48.4%</td>\n",
       "      <td>7</td>\n",
       "      <td>11</td>\n",
       "      <td>False</td>\n",
       "    </tr>\n",
       "    <tr>\n",
       "      <th>5</th>\n",
       "      <td>Alexander Ridge Aid Station</td>\n",
       "      <td>46.90</td>\n",
       "      <td>6160.0</td>\n",
       "      <td>13169.0</td>\n",
       "      <td>49.8%</td>\n",
       "      <td>3</td>\n",
       "      <td>18</td>\n",
       "      <td>True</td>\n",
       "    </tr>\n",
       "    <tr>\n",
       "      <th>6</th>\n",
       "      <td>Alexander Springs</td>\n",
       "      <td>47.97</td>\n",
       "      <td>5956.0</td>\n",
       "      <td>13319.0</td>\n",
       "      <td>50.3%</td>\n",
       "      <td>15</td>\n",
       "      <td>7</td>\n",
       "      <td>False</td>\n",
       "    </tr>\n",
       "    <tr>\n",
       "      <th>7</th>\n",
       "      <td>Rogers Trail junction</td>\n",
       "      <td>49.52</td>\n",
       "      <td>6698.0</td>\n",
       "      <td>13967.0</td>\n",
       "      <td>52.8%</td>\n",
       "      <td>11</td>\n",
       "      <td>18</td>\n",
       "      <td>False</td>\n",
       "    </tr>\n",
       "    <tr>\n",
       "      <th>8</th>\n",
       "      <td>Rogers Saddle</td>\n",
       "      <td>49.77</td>\n",
       "      <td>6790.0</td>\n",
       "      <td>14073.0</td>\n",
       "      <td>53.2%</td>\n",
       "      <td>0</td>\n",
       "      <td>13</td>\n",
       "      <td>False</td>\n",
       "    </tr>\n",
       "    <tr>\n",
       "      <th>9</th>\n",
       "      <td>Railroad Bed</td>\n",
       "      <td>50.15</td>\n",
       "      <td>6520.0</td>\n",
       "      <td>NaN</td>\n",
       "      <td>NaN</td>\n",
       "      <td>11</td>\n",
       "      <td>1</td>\n",
       "      <td>False</td>\n",
       "    </tr>\n",
       "    <tr>\n",
       "      <th>10</th>\n",
       "      <td>Lambs Canyon Underpass Aid Station</td>\n",
       "      <td>52.48</td>\n",
       "      <td>6111.0</td>\n",
       "      <td>14329.0</td>\n",
       "      <td>54.2%</td>\n",
       "      <td>17</td>\n",
       "      <td>19</td>\n",
       "      <td>True</td>\n",
       "    </tr>\n",
       "  </tbody>\n",
       "</table>\n",
       "</div>"
      ],
      "text/plain": [
       "                              LOCATION  MILES  ELEVATION    CUMUL  \\\n",
       "0        Big Mountain Pass Aid Station  39.07     7432.0  11579.0   \n",
       "1                     Mules Ear Meadow  40.75     7478.0  12008.0   \n",
       "2                        Bald Mountain  42.46     7869.0  12593.0   \n",
       "3                                   98    NaN        NaN      NaN   \n",
       "4                          Pence Point  43.99     7521.0  12813.0   \n",
       "5          Alexander Ridge Aid Station  46.90     6160.0  13169.0   \n",
       "6                    Alexander Springs  47.97     5956.0  13319.0   \n",
       "7                Rogers Trail junction  49.52     6698.0  13967.0   \n",
       "8                        Rogers Saddle  49.77     6790.0  14073.0   \n",
       "9                         Railroad Bed  50.15     6520.0      NaN   \n",
       "10  Lambs Canyon Underpass Aid Station  52.48     6111.0  14329.0   \n",
       "\n",
       "   % CUMUL GAIN  bogus  Bogus  Station  \n",
       "0         43.8%      2     15     True  \n",
       "1         45.4%     19      0    False  \n",
       "2         47.6%      0     12    False  \n",
       "3           NaN      4      6    False  \n",
       "4         48.4%      7     11    False  \n",
       "5         49.8%      3     18     True  \n",
       "6         50.3%     15      7    False  \n",
       "7         52.8%     11     18    False  \n",
       "8         53.2%      0     13    False  \n",
       "9           NaN     11      1    False  \n",
       "10        54.2%     17     19     True  "
      ]
     },
     "execution_count": 81,
     "metadata": {},
     "output_type": "execute_result"
    }
   ],
   "source": [
    "df"
   ]
  },
  {
   "cell_type": "markdown",
   "id": "4ebd3e00",
   "metadata": {},
   "source": [
    "### Deleting Rows"
   ]
  },
  {
   "cell_type": "markdown",
   "id": "97f4cf40",
   "metadata": {},
   "source": [
    "- The pandas data frame has a .drop method that takes a sequence of index values. "
   ]
  },
  {
   "cell_type": "code",
   "execution_count": 82,
   "id": "07097339",
   "metadata": {},
   "outputs": [
    {
     "data": {
      "text/html": [
       "<div>\n",
       "<style scoped>\n",
       "    .dataframe tbody tr th:only-of-type {\n",
       "        vertical-align: middle;\n",
       "    }\n",
       "\n",
       "    .dataframe tbody tr th {\n",
       "        vertical-align: top;\n",
       "    }\n",
       "\n",
       "    .dataframe thead th {\n",
       "        text-align: right;\n",
       "    }\n",
       "</style>\n",
       "<table border=\"1\" class=\"dataframe\">\n",
       "  <thead>\n",
       "    <tr style=\"text-align: right;\">\n",
       "      <th></th>\n",
       "      <th>LOCATION</th>\n",
       "      <th>MILES</th>\n",
       "      <th>ELEVATION</th>\n",
       "      <th>CUMUL</th>\n",
       "      <th>% CUMUL GAIN</th>\n",
       "      <th>bogus</th>\n",
       "      <th>Bogus</th>\n",
       "      <th>Station</th>\n",
       "    </tr>\n",
       "  </thead>\n",
       "  <tbody>\n",
       "    <tr>\n",
       "      <th>0</th>\n",
       "      <td>Big Mountain Pass Aid Station</td>\n",
       "      <td>39.07</td>\n",
       "      <td>7432.0</td>\n",
       "      <td>11579.0</td>\n",
       "      <td>43.8%</td>\n",
       "      <td>2</td>\n",
       "      <td>15</td>\n",
       "      <td>True</td>\n",
       "    </tr>\n",
       "    <tr>\n",
       "      <th>1</th>\n",
       "      <td>Mules Ear Meadow</td>\n",
       "      <td>40.75</td>\n",
       "      <td>7478.0</td>\n",
       "      <td>12008.0</td>\n",
       "      <td>45.4%</td>\n",
       "      <td>19</td>\n",
       "      <td>0</td>\n",
       "      <td>False</td>\n",
       "    </tr>\n",
       "    <tr>\n",
       "      <th>2</th>\n",
       "      <td>Bald Mountain</td>\n",
       "      <td>42.46</td>\n",
       "      <td>7869.0</td>\n",
       "      <td>12593.0</td>\n",
       "      <td>47.6%</td>\n",
       "      <td>0</td>\n",
       "      <td>12</td>\n",
       "      <td>False</td>\n",
       "    </tr>\n",
       "    <tr>\n",
       "      <th>3</th>\n",
       "      <td>98</td>\n",
       "      <td>NaN</td>\n",
       "      <td>NaN</td>\n",
       "      <td>NaN</td>\n",
       "      <td>NaN</td>\n",
       "      <td>4</td>\n",
       "      <td>6</td>\n",
       "      <td>False</td>\n",
       "    </tr>\n",
       "    <tr>\n",
       "      <th>4</th>\n",
       "      <td>Pence Point</td>\n",
       "      <td>43.99</td>\n",
       "      <td>7521.0</td>\n",
       "      <td>12813.0</td>\n",
       "      <td>48.4%</td>\n",
       "      <td>7</td>\n",
       "      <td>11</td>\n",
       "      <td>False</td>\n",
       "    </tr>\n",
       "    <tr>\n",
       "      <th>6</th>\n",
       "      <td>Alexander Springs</td>\n",
       "      <td>47.97</td>\n",
       "      <td>5956.0</td>\n",
       "      <td>13319.0</td>\n",
       "      <td>50.3%</td>\n",
       "      <td>15</td>\n",
       "      <td>7</td>\n",
       "      <td>False</td>\n",
       "    </tr>\n",
       "    <tr>\n",
       "      <th>7</th>\n",
       "      <td>Rogers Trail junction</td>\n",
       "      <td>49.52</td>\n",
       "      <td>6698.0</td>\n",
       "      <td>13967.0</td>\n",
       "      <td>52.8%</td>\n",
       "      <td>11</td>\n",
       "      <td>18</td>\n",
       "      <td>False</td>\n",
       "    </tr>\n",
       "    <tr>\n",
       "      <th>8</th>\n",
       "      <td>Rogers Saddle</td>\n",
       "      <td>49.77</td>\n",
       "      <td>6790.0</td>\n",
       "      <td>14073.0</td>\n",
       "      <td>53.2%</td>\n",
       "      <td>0</td>\n",
       "      <td>13</td>\n",
       "      <td>False</td>\n",
       "    </tr>\n",
       "    <tr>\n",
       "      <th>10</th>\n",
       "      <td>Lambs Canyon Underpass Aid Station</td>\n",
       "      <td>52.48</td>\n",
       "      <td>6111.0</td>\n",
       "      <td>14329.0</td>\n",
       "      <td>54.2%</td>\n",
       "      <td>17</td>\n",
       "      <td>19</td>\n",
       "      <td>True</td>\n",
       "    </tr>\n",
       "  </tbody>\n",
       "</table>\n",
       "</div>"
      ],
      "text/plain": [
       "                              LOCATION  MILES  ELEVATION    CUMUL  \\\n",
       "0        Big Mountain Pass Aid Station  39.07     7432.0  11579.0   \n",
       "1                     Mules Ear Meadow  40.75     7478.0  12008.0   \n",
       "2                        Bald Mountain  42.46     7869.0  12593.0   \n",
       "3                                   98    NaN        NaN      NaN   \n",
       "4                          Pence Point  43.99     7521.0  12813.0   \n",
       "6                    Alexander Springs  47.97     5956.0  13319.0   \n",
       "7                Rogers Trail junction  49.52     6698.0  13967.0   \n",
       "8                        Rogers Saddle  49.77     6790.0  14073.0   \n",
       "10  Lambs Canyon Underpass Aid Station  52.48     6111.0  14329.0   \n",
       "\n",
       "   % CUMUL GAIN  bogus  Bogus  Station  \n",
       "0         43.8%      2     15     True  \n",
       "1         45.4%     19      0    False  \n",
       "2         47.6%      0     12    False  \n",
       "3           NaN      4      6    False  \n",
       "4         48.4%      7     11    False  \n",
       "6         50.3%     15      7    False  \n",
       "7         52.8%     11     18    False  \n",
       "8         53.2%      0     13    False  \n",
       "10        54.2%     17     19     True  "
      ]
     },
     "execution_count": 82,
     "metadata": {},
     "output_type": "execute_result"
    }
   ],
   "source": [
    "df.drop([5,9])"
   ]
  },
  {
   "cell_type": "code",
   "execution_count": 89,
   "id": "bac036f4",
   "metadata": {},
   "outputs": [
    {
     "data": {
      "text/html": [
       "<div>\n",
       "<style scoped>\n",
       "    .dataframe tbody tr th:only-of-type {\n",
       "        vertical-align: middle;\n",
       "    }\n",
       "\n",
       "    .dataframe tbody tr th {\n",
       "        vertical-align: top;\n",
       "    }\n",
       "\n",
       "    .dataframe thead th {\n",
       "        text-align: right;\n",
       "    }\n",
       "</style>\n",
       "<table border=\"1\" class=\"dataframe\">\n",
       "  <thead>\n",
       "    <tr style=\"text-align: right;\">\n",
       "      <th></th>\n",
       "      <th>MILES</th>\n",
       "      <th>ELEVATION</th>\n",
       "      <th>CUMUL</th>\n",
       "      <th>% CUMUL GAIN</th>\n",
       "      <th>bogus</th>\n",
       "      <th>Bogus</th>\n",
       "      <th>Station</th>\n",
       "    </tr>\n",
       "  </thead>\n",
       "  <tbody>\n",
       "    <tr>\n",
       "      <th>0</th>\n",
       "      <td>39.07</td>\n",
       "      <td>7432.0</td>\n",
       "      <td>11579.0</td>\n",
       "      <td>43.8%</td>\n",
       "      <td>2</td>\n",
       "      <td>15</td>\n",
       "      <td>True</td>\n",
       "    </tr>\n",
       "    <tr>\n",
       "      <th>1</th>\n",
       "      <td>40.75</td>\n",
       "      <td>7478.0</td>\n",
       "      <td>12008.0</td>\n",
       "      <td>45.4%</td>\n",
       "      <td>19</td>\n",
       "      <td>0</td>\n",
       "      <td>False</td>\n",
       "    </tr>\n",
       "    <tr>\n",
       "      <th>2</th>\n",
       "      <td>42.46</td>\n",
       "      <td>7869.0</td>\n",
       "      <td>12593.0</td>\n",
       "      <td>47.6%</td>\n",
       "      <td>0</td>\n",
       "      <td>12</td>\n",
       "      <td>False</td>\n",
       "    </tr>\n",
       "    <tr>\n",
       "      <th>3</th>\n",
       "      <td>NaN</td>\n",
       "      <td>NaN</td>\n",
       "      <td>NaN</td>\n",
       "      <td>NaN</td>\n",
       "      <td>4</td>\n",
       "      <td>6</td>\n",
       "      <td>False</td>\n",
       "    </tr>\n",
       "    <tr>\n",
       "      <th>4</th>\n",
       "      <td>43.99</td>\n",
       "      <td>7521.0</td>\n",
       "      <td>12813.0</td>\n",
       "      <td>48.4%</td>\n",
       "      <td>7</td>\n",
       "      <td>11</td>\n",
       "      <td>False</td>\n",
       "    </tr>\n",
       "    <tr>\n",
       "      <th>6</th>\n",
       "      <td>47.97</td>\n",
       "      <td>5956.0</td>\n",
       "      <td>13319.0</td>\n",
       "      <td>50.3%</td>\n",
       "      <td>15</td>\n",
       "      <td>7</td>\n",
       "      <td>False</td>\n",
       "    </tr>\n",
       "    <tr>\n",
       "      <th>7</th>\n",
       "      <td>49.52</td>\n",
       "      <td>6698.0</td>\n",
       "      <td>13967.0</td>\n",
       "      <td>52.8%</td>\n",
       "      <td>11</td>\n",
       "      <td>18</td>\n",
       "      <td>False</td>\n",
       "    </tr>\n",
       "    <tr>\n",
       "      <th>8</th>\n",
       "      <td>49.77</td>\n",
       "      <td>6790.0</td>\n",
       "      <td>14073.0</td>\n",
       "      <td>53.2%</td>\n",
       "      <td>0</td>\n",
       "      <td>13</td>\n",
       "      <td>False</td>\n",
       "    </tr>\n",
       "    <tr>\n",
       "      <th>10</th>\n",
       "      <td>52.48</td>\n",
       "      <td>6111.0</td>\n",
       "      <td>14329.0</td>\n",
       "      <td>54.2%</td>\n",
       "      <td>17</td>\n",
       "      <td>19</td>\n",
       "      <td>True</td>\n",
       "    </tr>\n",
       "  </tbody>\n",
       "</table>\n",
       "</div>"
      ],
      "text/plain": [
       "    MILES  ELEVATION    CUMUL % CUMUL GAIN  bogus  Bogus  Station\n",
       "0   39.07     7432.0  11579.0        43.8%      2     15     True\n",
       "1   40.75     7478.0  12008.0        45.4%     19      0    False\n",
       "2   42.46     7869.0  12593.0        47.6%      0     12    False\n",
       "3     NaN        NaN      NaN          NaN      4      6    False\n",
       "4   43.99     7521.0  12813.0        48.4%      7     11    False\n",
       "6   47.97     5956.0  13319.0        50.3%     15      7    False\n",
       "7   49.52     6698.0  13967.0        52.8%     11     18    False\n",
       "8   49.77     6790.0  14073.0        53.2%      0     13    False\n",
       "10  52.48     6111.0  14329.0        54.2%     17     19     True"
      ]
     },
     "execution_count": 89,
     "metadata": {},
     "output_type": "execute_result"
    }
   ],
   "source": [
    "df.drop(df.index[5:10:4])"
   ]
  },
  {
   "cell_type": "markdown",
   "id": "ea738397",
   "metadata": {},
   "source": [
    "## Deleting Columns\n",
    "- .pop()\n",
    "- .drop() with axis =1\n",
    "- del statement"
   ]
  },
  {
   "cell_type": "code",
   "execution_count": 90,
   "id": "70686825",
   "metadata": {},
   "outputs": [
    {
     "ename": "KeyError",
     "evalue": "'LOCATION'",
     "output_type": "error",
     "traceback": [
      "\u001b[1;31m---------------------------------------------------------------------------\u001b[0m",
      "\u001b[1;31mKeyError\u001b[0m                                  Traceback (most recent call last)",
      "File \u001b[1;32m~\\anaconda3\\Lib\\site-packages\\pandas\\core\\indexes\\base.py:3802\u001b[0m, in \u001b[0;36mIndex.get_loc\u001b[1;34m(self, key, method, tolerance)\u001b[0m\n\u001b[0;32m   3801\u001b[0m \u001b[38;5;28;01mtry\u001b[39;00m:\n\u001b[1;32m-> 3802\u001b[0m     \u001b[38;5;28;01mreturn\u001b[39;00m \u001b[38;5;28mself\u001b[39m\u001b[38;5;241m.\u001b[39m_engine\u001b[38;5;241m.\u001b[39mget_loc(casted_key)\n\u001b[0;32m   3803\u001b[0m \u001b[38;5;28;01mexcept\u001b[39;00m \u001b[38;5;167;01mKeyError\u001b[39;00m \u001b[38;5;28;01mas\u001b[39;00m err:\n",
      "File \u001b[1;32m~\\anaconda3\\Lib\\site-packages\\pandas\\_libs\\index.pyx:138\u001b[0m, in \u001b[0;36mpandas._libs.index.IndexEngine.get_loc\u001b[1;34m()\u001b[0m\n",
      "File \u001b[1;32m~\\anaconda3\\Lib\\site-packages\\pandas\\_libs\\index.pyx:165\u001b[0m, in \u001b[0;36mpandas._libs.index.IndexEngine.get_loc\u001b[1;34m()\u001b[0m\n",
      "File \u001b[1;32mpandas\\_libs\\hashtable_class_helper.pxi:5745\u001b[0m, in \u001b[0;36mpandas._libs.hashtable.PyObjectHashTable.get_item\u001b[1;34m()\u001b[0m\n",
      "File \u001b[1;32mpandas\\_libs\\hashtable_class_helper.pxi:5753\u001b[0m, in \u001b[0;36mpandas._libs.hashtable.PyObjectHashTable.get_item\u001b[1;34m()\u001b[0m\n",
      "\u001b[1;31mKeyError\u001b[0m: 'LOCATION'",
      "\nThe above exception was the direct cause of the following exception:\n",
      "\u001b[1;31mKeyError\u001b[0m                                  Traceback (most recent call last)",
      "Cell \u001b[1;32mIn[90], line 1\u001b[0m\n\u001b[1;32m----> 1\u001b[0m df\u001b[38;5;241m.\u001b[39mpop(\u001b[38;5;124m'\u001b[39m\u001b[38;5;124mLOCATION\u001b[39m\u001b[38;5;124m'\u001b[39m)\n",
      "File \u001b[1;32m~\\anaconda3\\Lib\\site-packages\\pandas\\core\\frame.py:5685\u001b[0m, in \u001b[0;36mDataFrame.pop\u001b[1;34m(self, item)\u001b[0m\n\u001b[0;32m   5644\u001b[0m \u001b[38;5;28;01mdef\u001b[39;00m \u001b[38;5;21mpop\u001b[39m(\u001b[38;5;28mself\u001b[39m, item: Hashable) \u001b[38;5;241m-\u001b[39m\u001b[38;5;241m>\u001b[39m Series:\n\u001b[0;32m   5645\u001b[0m \u001b[38;5;250m    \u001b[39m\u001b[38;5;124;03m\"\"\"\u001b[39;00m\n\u001b[0;32m   5646\u001b[0m \u001b[38;5;124;03m    Return item and drop from frame. Raise KeyError if not found.\u001b[39;00m\n\u001b[0;32m   5647\u001b[0m \n\u001b[1;32m   (...)\u001b[0m\n\u001b[0;32m   5683\u001b[0m \u001b[38;5;124;03m    3  monkey        NaN\u001b[39;00m\n\u001b[0;32m   5684\u001b[0m \u001b[38;5;124;03m    \"\"\"\u001b[39;00m\n\u001b[1;32m-> 5685\u001b[0m     \u001b[38;5;28;01mreturn\u001b[39;00m \u001b[38;5;28msuper\u001b[39m()\u001b[38;5;241m.\u001b[39mpop(item\u001b[38;5;241m=\u001b[39mitem)\n",
      "File \u001b[1;32m~\\anaconda3\\Lib\\site-packages\\pandas\\core\\generic.py:923\u001b[0m, in \u001b[0;36mNDFrame.pop\u001b[1;34m(self, item)\u001b[0m\n\u001b[0;32m    922\u001b[0m \u001b[38;5;28;01mdef\u001b[39;00m \u001b[38;5;21mpop\u001b[39m(\u001b[38;5;28mself\u001b[39m, item: Hashable) \u001b[38;5;241m-\u001b[39m\u001b[38;5;241m>\u001b[39m Series \u001b[38;5;241m|\u001b[39m Any:\n\u001b[1;32m--> 923\u001b[0m     result \u001b[38;5;241m=\u001b[39m \u001b[38;5;28mself\u001b[39m[item]\n\u001b[0;32m    924\u001b[0m     \u001b[38;5;28;01mdel\u001b[39;00m \u001b[38;5;28mself\u001b[39m[item]\n\u001b[0;32m    926\u001b[0m     \u001b[38;5;28;01mreturn\u001b[39;00m result\n",
      "File \u001b[1;32m~\\anaconda3\\Lib\\site-packages\\pandas\\core\\frame.py:3807\u001b[0m, in \u001b[0;36mDataFrame.__getitem__\u001b[1;34m(self, key)\u001b[0m\n\u001b[0;32m   3805\u001b[0m \u001b[38;5;28;01mif\u001b[39;00m \u001b[38;5;28mself\u001b[39m\u001b[38;5;241m.\u001b[39mcolumns\u001b[38;5;241m.\u001b[39mnlevels \u001b[38;5;241m>\u001b[39m \u001b[38;5;241m1\u001b[39m:\n\u001b[0;32m   3806\u001b[0m     \u001b[38;5;28;01mreturn\u001b[39;00m \u001b[38;5;28mself\u001b[39m\u001b[38;5;241m.\u001b[39m_getitem_multilevel(key)\n\u001b[1;32m-> 3807\u001b[0m indexer \u001b[38;5;241m=\u001b[39m \u001b[38;5;28mself\u001b[39m\u001b[38;5;241m.\u001b[39mcolumns\u001b[38;5;241m.\u001b[39mget_loc(key)\n\u001b[0;32m   3808\u001b[0m \u001b[38;5;28;01mif\u001b[39;00m is_integer(indexer):\n\u001b[0;32m   3809\u001b[0m     indexer \u001b[38;5;241m=\u001b[39m [indexer]\n",
      "File \u001b[1;32m~\\anaconda3\\Lib\\site-packages\\pandas\\core\\indexes\\base.py:3804\u001b[0m, in \u001b[0;36mIndex.get_loc\u001b[1;34m(self, key, method, tolerance)\u001b[0m\n\u001b[0;32m   3802\u001b[0m     \u001b[38;5;28;01mreturn\u001b[39;00m \u001b[38;5;28mself\u001b[39m\u001b[38;5;241m.\u001b[39m_engine\u001b[38;5;241m.\u001b[39mget_loc(casted_key)\n\u001b[0;32m   3803\u001b[0m \u001b[38;5;28;01mexcept\u001b[39;00m \u001b[38;5;167;01mKeyError\u001b[39;00m \u001b[38;5;28;01mas\u001b[39;00m err:\n\u001b[1;32m-> 3804\u001b[0m     \u001b[38;5;28;01mraise\u001b[39;00m \u001b[38;5;167;01mKeyError\u001b[39;00m(key) \u001b[38;5;28;01mfrom\u001b[39;00m \u001b[38;5;21;01merr\u001b[39;00m\n\u001b[0;32m   3805\u001b[0m \u001b[38;5;28;01mexcept\u001b[39;00m \u001b[38;5;167;01mTypeError\u001b[39;00m:\n\u001b[0;32m   3806\u001b[0m     \u001b[38;5;66;03m# If we have a listlike key, _check_indexing_error will raise\u001b[39;00m\n\u001b[0;32m   3807\u001b[0m     \u001b[38;5;66;03m#  InvalidIndexError. Otherwise we fall through and re-raise\u001b[39;00m\n\u001b[0;32m   3808\u001b[0m     \u001b[38;5;66;03m#  the TypeError.\u001b[39;00m\n\u001b[0;32m   3809\u001b[0m     \u001b[38;5;28mself\u001b[39m\u001b[38;5;241m.\u001b[39m_check_indexing_error(key)\n",
      "\u001b[1;31mKeyError\u001b[0m: 'LOCATION'"
     ]
    }
   ],
   "source": [
    "df.pop('LOCATION')"
   ]
  },
  {
   "cell_type": "code",
   "execution_count": 91,
   "id": "cf9c4427",
   "metadata": {},
   "outputs": [],
   "source": [
    "del df['bogus']"
   ]
  },
  {
   "cell_type": "code",
   "execution_count": 94,
   "id": "b144f66a",
   "metadata": {},
   "outputs": [
    {
     "data": {
      "text/html": [
       "<div>\n",
       "<style scoped>\n",
       "    .dataframe tbody tr th:only-of-type {\n",
       "        vertical-align: middle;\n",
       "    }\n",
       "\n",
       "    .dataframe tbody tr th {\n",
       "        vertical-align: top;\n",
       "    }\n",
       "\n",
       "    .dataframe thead th {\n",
       "        text-align: right;\n",
       "    }\n",
       "</style>\n",
       "<table border=\"1\" class=\"dataframe\">\n",
       "  <thead>\n",
       "    <tr style=\"text-align: right;\">\n",
       "      <th></th>\n",
       "      <th>MILES</th>\n",
       "      <th>ELEVATION</th>\n",
       "      <th>CUMUL</th>\n",
       "      <th>% CUMUL GAIN</th>\n",
       "      <th>Bogus</th>\n",
       "      <th>Station</th>\n",
       "    </tr>\n",
       "  </thead>\n",
       "  <tbody>\n",
       "    <tr>\n",
       "      <th>0</th>\n",
       "      <td>39.07</td>\n",
       "      <td>7432.0</td>\n",
       "      <td>11579.0</td>\n",
       "      <td>43.8%</td>\n",
       "      <td>15</td>\n",
       "      <td>True</td>\n",
       "    </tr>\n",
       "    <tr>\n",
       "      <th>1</th>\n",
       "      <td>40.75</td>\n",
       "      <td>7478.0</td>\n",
       "      <td>12008.0</td>\n",
       "      <td>45.4%</td>\n",
       "      <td>0</td>\n",
       "      <td>False</td>\n",
       "    </tr>\n",
       "    <tr>\n",
       "      <th>2</th>\n",
       "      <td>42.46</td>\n",
       "      <td>7869.0</td>\n",
       "      <td>12593.0</td>\n",
       "      <td>47.6%</td>\n",
       "      <td>12</td>\n",
       "      <td>False</td>\n",
       "    </tr>\n",
       "    <tr>\n",
       "      <th>3</th>\n",
       "      <td>NaN</td>\n",
       "      <td>NaN</td>\n",
       "      <td>NaN</td>\n",
       "      <td>NaN</td>\n",
       "      <td>6</td>\n",
       "      <td>False</td>\n",
       "    </tr>\n",
       "    <tr>\n",
       "      <th>4</th>\n",
       "      <td>43.99</td>\n",
       "      <td>7521.0</td>\n",
       "      <td>12813.0</td>\n",
       "      <td>48.4%</td>\n",
       "      <td>11</td>\n",
       "      <td>False</td>\n",
       "    </tr>\n",
       "    <tr>\n",
       "      <th>5</th>\n",
       "      <td>46.90</td>\n",
       "      <td>6160.0</td>\n",
       "      <td>13169.0</td>\n",
       "      <td>49.8%</td>\n",
       "      <td>18</td>\n",
       "      <td>True</td>\n",
       "    </tr>\n",
       "    <tr>\n",
       "      <th>6</th>\n",
       "      <td>47.97</td>\n",
       "      <td>5956.0</td>\n",
       "      <td>13319.0</td>\n",
       "      <td>50.3%</td>\n",
       "      <td>7</td>\n",
       "      <td>False</td>\n",
       "    </tr>\n",
       "    <tr>\n",
       "      <th>7</th>\n",
       "      <td>49.52</td>\n",
       "      <td>6698.0</td>\n",
       "      <td>13967.0</td>\n",
       "      <td>52.8%</td>\n",
       "      <td>18</td>\n",
       "      <td>False</td>\n",
       "    </tr>\n",
       "    <tr>\n",
       "      <th>8</th>\n",
       "      <td>49.77</td>\n",
       "      <td>6790.0</td>\n",
       "      <td>14073.0</td>\n",
       "      <td>53.2%</td>\n",
       "      <td>13</td>\n",
       "      <td>False</td>\n",
       "    </tr>\n",
       "    <tr>\n",
       "      <th>9</th>\n",
       "      <td>50.15</td>\n",
       "      <td>6520.0</td>\n",
       "      <td>NaN</td>\n",
       "      <td>NaN</td>\n",
       "      <td>1</td>\n",
       "      <td>False</td>\n",
       "    </tr>\n",
       "    <tr>\n",
       "      <th>10</th>\n",
       "      <td>52.48</td>\n",
       "      <td>6111.0</td>\n",
       "      <td>14329.0</td>\n",
       "      <td>54.2%</td>\n",
       "      <td>19</td>\n",
       "      <td>True</td>\n",
       "    </tr>\n",
       "  </tbody>\n",
       "</table>\n",
       "</div>"
      ],
      "text/plain": [
       "    MILES  ELEVATION    CUMUL % CUMUL GAIN  Bogus  Station\n",
       "0   39.07     7432.0  11579.0        43.8%     15     True\n",
       "1   40.75     7478.0  12008.0        45.4%      0    False\n",
       "2   42.46     7869.0  12593.0        47.6%     12    False\n",
       "3     NaN        NaN      NaN          NaN      6    False\n",
       "4   43.99     7521.0  12813.0        48.4%     11    False\n",
       "5   46.90     6160.0  13169.0        49.8%     18     True\n",
       "6   47.97     5956.0  13319.0        50.3%      7    False\n",
       "7   49.52     6698.0  13967.0        52.8%     18    False\n",
       "8   49.77     6790.0  14073.0        53.2%     13    False\n",
       "9   50.15     6520.0      NaN          NaN      1    False\n",
       "10  52.48     6111.0  14329.0        54.2%     19     True"
      ]
     },
     "execution_count": 94,
     "metadata": {},
     "output_type": "execute_result"
    }
   ],
   "source": [
    "df"
   ]
  },
  {
   "cell_type": "code",
   "execution_count": 95,
   "id": "fab9d5d3",
   "metadata": {},
   "outputs": [
    {
     "data": {
      "text/html": [
       "<div>\n",
       "<style scoped>\n",
       "    .dataframe tbody tr th:only-of-type {\n",
       "        vertical-align: middle;\n",
       "    }\n",
       "\n",
       "    .dataframe tbody tr th {\n",
       "        vertical-align: top;\n",
       "    }\n",
       "\n",
       "    .dataframe thead th {\n",
       "        text-align: right;\n",
       "    }\n",
       "</style>\n",
       "<table border=\"1\" class=\"dataframe\">\n",
       "  <thead>\n",
       "    <tr style=\"text-align: right;\">\n",
       "      <th></th>\n",
       "      <th>MILES</th>\n",
       "      <th>ELEVATION</th>\n",
       "      <th>% CUMUL GAIN</th>\n",
       "      <th>Bogus</th>\n",
       "      <th>Station</th>\n",
       "    </tr>\n",
       "  </thead>\n",
       "  <tbody>\n",
       "    <tr>\n",
       "      <th>0</th>\n",
       "      <td>39.07</td>\n",
       "      <td>7432.0</td>\n",
       "      <td>43.8%</td>\n",
       "      <td>15</td>\n",
       "      <td>True</td>\n",
       "    </tr>\n",
       "    <tr>\n",
       "      <th>1</th>\n",
       "      <td>40.75</td>\n",
       "      <td>7478.0</td>\n",
       "      <td>45.4%</td>\n",
       "      <td>0</td>\n",
       "      <td>False</td>\n",
       "    </tr>\n",
       "    <tr>\n",
       "      <th>2</th>\n",
       "      <td>42.46</td>\n",
       "      <td>7869.0</td>\n",
       "      <td>47.6%</td>\n",
       "      <td>12</td>\n",
       "      <td>False</td>\n",
       "    </tr>\n",
       "    <tr>\n",
       "      <th>3</th>\n",
       "      <td>NaN</td>\n",
       "      <td>NaN</td>\n",
       "      <td>NaN</td>\n",
       "      <td>6</td>\n",
       "      <td>False</td>\n",
       "    </tr>\n",
       "    <tr>\n",
       "      <th>4</th>\n",
       "      <td>43.99</td>\n",
       "      <td>7521.0</td>\n",
       "      <td>48.4%</td>\n",
       "      <td>11</td>\n",
       "      <td>False</td>\n",
       "    </tr>\n",
       "    <tr>\n",
       "      <th>5</th>\n",
       "      <td>46.90</td>\n",
       "      <td>6160.0</td>\n",
       "      <td>49.8%</td>\n",
       "      <td>18</td>\n",
       "      <td>True</td>\n",
       "    </tr>\n",
       "    <tr>\n",
       "      <th>6</th>\n",
       "      <td>47.97</td>\n",
       "      <td>5956.0</td>\n",
       "      <td>50.3%</td>\n",
       "      <td>7</td>\n",
       "      <td>False</td>\n",
       "    </tr>\n",
       "    <tr>\n",
       "      <th>7</th>\n",
       "      <td>49.52</td>\n",
       "      <td>6698.0</td>\n",
       "      <td>52.8%</td>\n",
       "      <td>18</td>\n",
       "      <td>False</td>\n",
       "    </tr>\n",
       "    <tr>\n",
       "      <th>8</th>\n",
       "      <td>49.77</td>\n",
       "      <td>6790.0</td>\n",
       "      <td>53.2%</td>\n",
       "      <td>13</td>\n",
       "      <td>False</td>\n",
       "    </tr>\n",
       "    <tr>\n",
       "      <th>9</th>\n",
       "      <td>50.15</td>\n",
       "      <td>6520.0</td>\n",
       "      <td>NaN</td>\n",
       "      <td>1</td>\n",
       "      <td>False</td>\n",
       "    </tr>\n",
       "    <tr>\n",
       "      <th>10</th>\n",
       "      <td>52.48</td>\n",
       "      <td>6111.0</td>\n",
       "      <td>54.2%</td>\n",
       "      <td>19</td>\n",
       "      <td>True</td>\n",
       "    </tr>\n",
       "  </tbody>\n",
       "</table>\n",
       "</div>"
      ],
      "text/plain": [
       "    MILES  ELEVATION % CUMUL GAIN  Bogus  Station\n",
       "0   39.07     7432.0        43.8%     15     True\n",
       "1   40.75     7478.0        45.4%      0    False\n",
       "2   42.46     7869.0        47.6%     12    False\n",
       "3     NaN        NaN          NaN      6    False\n",
       "4   43.99     7521.0        48.4%     11    False\n",
       "5   46.90     6160.0        49.8%     18     True\n",
       "6   47.97     5956.0        50.3%      7    False\n",
       "7   49.52     6698.0        52.8%     18    False\n",
       "8   49.77     6790.0        53.2%     13    False\n",
       "9   50.15     6520.0          NaN      1    False\n",
       "10  52.48     6111.0        54.2%     19     True"
      ]
     },
     "execution_count": 95,
     "metadata": {},
     "output_type": "execute_result"
    }
   ],
   "source": [
    "df.drop(['CUMUL'],axis=1)"
   ]
  },
  {
   "cell_type": "code",
   "execution_count": 99,
   "id": "f7f2e274",
   "metadata": {},
   "outputs": [
    {
     "data": {
      "text/html": [
       "<div>\n",
       "<style scoped>\n",
       "    .dataframe tbody tr th:only-of-type {\n",
       "        vertical-align: middle;\n",
       "    }\n",
       "\n",
       "    .dataframe tbody tr th {\n",
       "        vertical-align: top;\n",
       "    }\n",
       "\n",
       "    .dataframe thead th {\n",
       "        text-align: right;\n",
       "    }\n",
       "</style>\n",
       "<table border=\"1\" class=\"dataframe\">\n",
       "  <thead>\n",
       "    <tr style=\"text-align: right;\">\n",
       "      <th></th>\n",
       "      <th>LOCATION</th>\n",
       "      <th>MILES</th>\n",
       "      <th>ELEVATION</th>\n",
       "      <th>CUMUL</th>\n",
       "      <th>% CUMUL GAIN</th>\n",
       "    </tr>\n",
       "  </thead>\n",
       "  <tbody>\n",
       "    <tr>\n",
       "      <th>0</th>\n",
       "      <td>Big Mountain Pass Aid Station</td>\n",
       "      <td>39.07</td>\n",
       "      <td>7432.0</td>\n",
       "      <td>11579.0</td>\n",
       "      <td>43.8%</td>\n",
       "    </tr>\n",
       "    <tr>\n",
       "      <th>1</th>\n",
       "      <td>Mules Ear Meadow</td>\n",
       "      <td>40.75</td>\n",
       "      <td>7478.0</td>\n",
       "      <td>12008.0</td>\n",
       "      <td>45.4%</td>\n",
       "    </tr>\n",
       "    <tr>\n",
       "      <th>2</th>\n",
       "      <td>Bald Mountain</td>\n",
       "      <td>42.46</td>\n",
       "      <td>7869.0</td>\n",
       "      <td>12593.0</td>\n",
       "      <td>47.6%</td>\n",
       "    </tr>\n",
       "    <tr>\n",
       "      <th>3</th>\n",
       "      <td>98</td>\n",
       "      <td>NaN</td>\n",
       "      <td>NaN</td>\n",
       "      <td>NaN</td>\n",
       "      <td>NaN</td>\n",
       "    </tr>\n",
       "    <tr>\n",
       "      <th>4</th>\n",
       "      <td>Pence Point</td>\n",
       "      <td>43.99</td>\n",
       "      <td>7521.0</td>\n",
       "      <td>12813.0</td>\n",
       "      <td>48.4%</td>\n",
       "    </tr>\n",
       "    <tr>\n",
       "      <th>5</th>\n",
       "      <td>Alexander Ridge Aid Station</td>\n",
       "      <td>46.90</td>\n",
       "      <td>6160.0</td>\n",
       "      <td>13169.0</td>\n",
       "      <td>49.8%</td>\n",
       "    </tr>\n",
       "    <tr>\n",
       "      <th>6</th>\n",
       "      <td>Alexander Springs</td>\n",
       "      <td>47.97</td>\n",
       "      <td>5956.0</td>\n",
       "      <td>13319.0</td>\n",
       "      <td>50.3%</td>\n",
       "    </tr>\n",
       "    <tr>\n",
       "      <th>7</th>\n",
       "      <td>Rogers Trail junction</td>\n",
       "      <td>49.52</td>\n",
       "      <td>6698.0</td>\n",
       "      <td>13967.0</td>\n",
       "      <td>52.8%</td>\n",
       "    </tr>\n",
       "    <tr>\n",
       "      <th>8</th>\n",
       "      <td>Rogers Saddle</td>\n",
       "      <td>49.77</td>\n",
       "      <td>6790.0</td>\n",
       "      <td>14073.0</td>\n",
       "      <td>53.2%</td>\n",
       "    </tr>\n",
       "    <tr>\n",
       "      <th>9</th>\n",
       "      <td>Railroad Bed</td>\n",
       "      <td>50.15</td>\n",
       "      <td>6520.0</td>\n",
       "      <td>NaN</td>\n",
       "      <td>NaN</td>\n",
       "    </tr>\n",
       "    <tr>\n",
       "      <th>10</th>\n",
       "      <td>Lambs Canyon Underpass Aid Station</td>\n",
       "      <td>52.48</td>\n",
       "      <td>6111.0</td>\n",
       "      <td>14329.0</td>\n",
       "      <td>54.2%</td>\n",
       "    </tr>\n",
       "  </tbody>\n",
       "</table>\n",
       "</div>"
      ],
      "text/plain": [
       "                              LOCATION  MILES  ELEVATION    CUMUL % CUMUL GAIN\n",
       "0        Big Mountain Pass Aid Station  39.07     7432.0  11579.0        43.8%\n",
       "1                     Mules Ear Meadow  40.75     7478.0  12008.0        45.4%\n",
       "2                        Bald Mountain  42.46     7869.0  12593.0        47.6%\n",
       "3                                   98    NaN        NaN      NaN          NaN\n",
       "4                          Pence Point  43.99     7521.0  12813.0        48.4%\n",
       "5          Alexander Ridge Aid Station  46.90     6160.0  13169.0        49.8%\n",
       "6                    Alexander Springs  47.97     5956.0  13319.0        50.3%\n",
       "7                Rogers Trail junction  49.52     6698.0  13967.0        52.8%\n",
       "8                        Rogers Saddle  49.77     6790.0  14073.0        53.2%\n",
       "9                         Railroad Bed  50.15     6520.0      NaN          NaN\n",
       "10  Lambs Canyon Underpass Aid Station  52.48     6111.0  14329.0        54.2%"
      ]
     },
     "execution_count": 99,
     "metadata": {},
     "output_type": "execute_result"
    }
   ],
   "source": [
    "df"
   ]
  },
  {
   "cell_type": "code",
   "execution_count": 102,
   "id": "58d834e2",
   "metadata": {},
   "outputs": [
    {
     "data": {
      "text/html": [
       "<div>\n",
       "<style scoped>\n",
       "    .dataframe tbody tr th:only-of-type {\n",
       "        vertical-align: middle;\n",
       "    }\n",
       "\n",
       "    .dataframe tbody tr th {\n",
       "        vertical-align: top;\n",
       "    }\n",
       "\n",
       "    .dataframe thead th {\n",
       "        text-align: right;\n",
       "    }\n",
       "</style>\n",
       "<table border=\"1\" class=\"dataframe\">\n",
       "  <thead>\n",
       "    <tr style=\"text-align: right;\">\n",
       "      <th></th>\n",
       "      <th>LOCATION</th>\n",
       "      <th>MILES</th>\n",
       "      <th>ELEVATION</th>\n",
       "      <th>CUMUL</th>\n",
       "      <th>% CUMUL GAIN</th>\n",
       "      <th>Station</th>\n",
       "      <th>Bogus</th>\n",
       "    </tr>\n",
       "  </thead>\n",
       "  <tbody>\n",
       "    <tr>\n",
       "      <th>0</th>\n",
       "      <td>Big Mountain Pass Aid Station</td>\n",
       "      <td>39.07</td>\n",
       "      <td>7432.0</td>\n",
       "      <td>11579.0</td>\n",
       "      <td>43.8%</td>\n",
       "      <td>True</td>\n",
       "      <td>13</td>\n",
       "    </tr>\n",
       "    <tr>\n",
       "      <th>1</th>\n",
       "      <td>Mules Ear Meadow</td>\n",
       "      <td>40.75</td>\n",
       "      <td>7478.0</td>\n",
       "      <td>12008.0</td>\n",
       "      <td>45.4%</td>\n",
       "      <td>False</td>\n",
       "      <td>2</td>\n",
       "    </tr>\n",
       "    <tr>\n",
       "      <th>2</th>\n",
       "      <td>Bald Mountain</td>\n",
       "      <td>42.46</td>\n",
       "      <td>7869.0</td>\n",
       "      <td>12593.0</td>\n",
       "      <td>47.6%</td>\n",
       "      <td>False</td>\n",
       "      <td>4</td>\n",
       "    </tr>\n",
       "    <tr>\n",
       "      <th>3</th>\n",
       "      <td>98</td>\n",
       "      <td>NaN</td>\n",
       "      <td>NaN</td>\n",
       "      <td>NaN</td>\n",
       "      <td>NaN</td>\n",
       "      <td>False</td>\n",
       "      <td>20</td>\n",
       "    </tr>\n",
       "    <tr>\n",
       "      <th>4</th>\n",
       "      <td>Pence Point</td>\n",
       "      <td>43.99</td>\n",
       "      <td>7521.0</td>\n",
       "      <td>12813.0</td>\n",
       "      <td>48.4%</td>\n",
       "      <td>False</td>\n",
       "      <td>8</td>\n",
       "    </tr>\n",
       "    <tr>\n",
       "      <th>5</th>\n",
       "      <td>Alexander Ridge Aid Station</td>\n",
       "      <td>46.90</td>\n",
       "      <td>6160.0</td>\n",
       "      <td>13169.0</td>\n",
       "      <td>49.8%</td>\n",
       "      <td>True</td>\n",
       "      <td>9</td>\n",
       "    </tr>\n",
       "    <tr>\n",
       "      <th>6</th>\n",
       "      <td>Alexander Springs</td>\n",
       "      <td>47.97</td>\n",
       "      <td>5956.0</td>\n",
       "      <td>13319.0</td>\n",
       "      <td>50.3%</td>\n",
       "      <td>False</td>\n",
       "      <td>15</td>\n",
       "    </tr>\n",
       "    <tr>\n",
       "      <th>7</th>\n",
       "      <td>Rogers Trail junction</td>\n",
       "      <td>49.52</td>\n",
       "      <td>6698.0</td>\n",
       "      <td>13967.0</td>\n",
       "      <td>52.8%</td>\n",
       "      <td>False</td>\n",
       "      <td>6</td>\n",
       "    </tr>\n",
       "    <tr>\n",
       "      <th>8</th>\n",
       "      <td>Rogers Saddle</td>\n",
       "      <td>49.77</td>\n",
       "      <td>6790.0</td>\n",
       "      <td>14073.0</td>\n",
       "      <td>53.2%</td>\n",
       "      <td>False</td>\n",
       "      <td>15</td>\n",
       "    </tr>\n",
       "    <tr>\n",
       "      <th>9</th>\n",
       "      <td>Railroad Bed</td>\n",
       "      <td>50.15</td>\n",
       "      <td>6520.0</td>\n",
       "      <td>NaN</td>\n",
       "      <td>NaN</td>\n",
       "      <td>False</td>\n",
       "      <td>4</td>\n",
       "    </tr>\n",
       "    <tr>\n",
       "      <th>10</th>\n",
       "      <td>Lambs Canyon Underpass Aid Station</td>\n",
       "      <td>52.48</td>\n",
       "      <td>6111.0</td>\n",
       "      <td>14329.0</td>\n",
       "      <td>54.2%</td>\n",
       "      <td>True</td>\n",
       "      <td>1</td>\n",
       "    </tr>\n",
       "  </tbody>\n",
       "</table>\n",
       "</div>"
      ],
      "text/plain": [
       "                              LOCATION  MILES  ELEVATION    CUMUL  \\\n",
       "0        Big Mountain Pass Aid Station  39.07     7432.0  11579.0   \n",
       "1                     Mules Ear Meadow  40.75     7478.0  12008.0   \n",
       "2                        Bald Mountain  42.46     7869.0  12593.0   \n",
       "3                                   98    NaN        NaN      NaN   \n",
       "4                          Pence Point  43.99     7521.0  12813.0   \n",
       "5          Alexander Ridge Aid Station  46.90     6160.0  13169.0   \n",
       "6                    Alexander Springs  47.97     5956.0  13319.0   \n",
       "7                Rogers Trail junction  49.52     6698.0  13967.0   \n",
       "8                        Rogers Saddle  49.77     6790.0  14073.0   \n",
       "9                         Railroad Bed  50.15     6520.0      NaN   \n",
       "10  Lambs Canyon Underpass Aid Station  52.48     6111.0  14329.0   \n",
       "\n",
       "   % CUMUL GAIN  Station  Bogus  \n",
       "0         43.8%     True     13  \n",
       "1         45.4%    False      2  \n",
       "2         47.6%    False      4  \n",
       "3           NaN    False     20  \n",
       "4         48.4%    False      8  \n",
       "5         49.8%     True      9  \n",
       "6         50.3%    False     15  \n",
       "7         52.8%    False      6  \n",
       "8         53.2%    False     15  \n",
       "9           NaN    False      4  \n",
       "10        54.2%     True      1  "
      ]
     },
     "execution_count": 102,
     "metadata": {},
     "output_type": "execute_result"
    }
   ],
   "source": [
    "df"
   ]
  },
  {
   "cell_type": "markdown",
   "id": "9aeb857b",
   "metadata": {},
   "source": [
    "### DataFrames Methods"
   ]
  },
  {
   "cell_type": "code",
   "execution_count": 103,
   "id": "bbd077fc",
   "metadata": {},
   "outputs": [],
   "source": [
    "data = StringIO('''UPC,Units,Sales,Date\n",
    "... 1234,5,20.2,1-1-2014\n",
    "... 1234,2,8.,1-2-2014\n",
    "... 1234,3,13.,1-3-2014\n",
    "... 789,1,2.,1-1-2014\n",
    "... 789,2,3.8,1-2-2014\n",
    "... 789,,,1-3-2014\n",
    "... 789,1,1.8,1-5-2014''')"
   ]
  },
  {
   "cell_type": "code",
   "execution_count": 104,
   "id": "c3a8d8d9",
   "metadata": {},
   "outputs": [],
   "source": [
    "sales=pd.read_csv(data)"
   ]
  },
  {
   "cell_type": "code",
   "execution_count": 105,
   "id": "99e20dae",
   "metadata": {},
   "outputs": [
    {
     "data": {
      "text/html": [
       "<div>\n",
       "<style scoped>\n",
       "    .dataframe tbody tr th:only-of-type {\n",
       "        vertical-align: middle;\n",
       "    }\n",
       "\n",
       "    .dataframe tbody tr th {\n",
       "        vertical-align: top;\n",
       "    }\n",
       "\n",
       "    .dataframe thead th {\n",
       "        text-align: right;\n",
       "    }\n",
       "</style>\n",
       "<table border=\"1\" class=\"dataframe\">\n",
       "  <thead>\n",
       "    <tr style=\"text-align: right;\">\n",
       "      <th></th>\n",
       "      <th>UPC</th>\n",
       "      <th>Units</th>\n",
       "      <th>Sales</th>\n",
       "      <th>Date</th>\n",
       "    </tr>\n",
       "  </thead>\n",
       "  <tbody>\n",
       "    <tr>\n",
       "      <th>0</th>\n",
       "      <td>1234</td>\n",
       "      <td>5.0</td>\n",
       "      <td>20.2</td>\n",
       "      <td>1-1-2014</td>\n",
       "    </tr>\n",
       "    <tr>\n",
       "      <th>1</th>\n",
       "      <td>1234</td>\n",
       "      <td>2.0</td>\n",
       "      <td>8.0</td>\n",
       "      <td>1-2-2014</td>\n",
       "    </tr>\n",
       "    <tr>\n",
       "      <th>2</th>\n",
       "      <td>1234</td>\n",
       "      <td>3.0</td>\n",
       "      <td>13.0</td>\n",
       "      <td>1-3-2014</td>\n",
       "    </tr>\n",
       "    <tr>\n",
       "      <th>3</th>\n",
       "      <td>789</td>\n",
       "      <td>1.0</td>\n",
       "      <td>2.0</td>\n",
       "      <td>1-1-2014</td>\n",
       "    </tr>\n",
       "    <tr>\n",
       "      <th>4</th>\n",
       "      <td>789</td>\n",
       "      <td>2.0</td>\n",
       "      <td>3.8</td>\n",
       "      <td>1-2-2014</td>\n",
       "    </tr>\n",
       "    <tr>\n",
       "      <th>5</th>\n",
       "      <td>789</td>\n",
       "      <td>NaN</td>\n",
       "      <td>NaN</td>\n",
       "      <td>1-3-2014</td>\n",
       "    </tr>\n",
       "    <tr>\n",
       "      <th>6</th>\n",
       "      <td>789</td>\n",
       "      <td>1.0</td>\n",
       "      <td>1.8</td>\n",
       "      <td>1-5-2014</td>\n",
       "    </tr>\n",
       "  </tbody>\n",
       "</table>\n",
       "</div>"
      ],
      "text/plain": [
       "    UPC  Units  Sales      Date\n",
       "0  1234    5.0   20.2  1-1-2014\n",
       "1  1234    2.0    8.0  1-2-2014\n",
       "2  1234    3.0   13.0  1-3-2014\n",
       "3   789    1.0    2.0  1-1-2014\n",
       "4   789    2.0    3.8  1-2-2014\n",
       "5   789    NaN    NaN  1-3-2014\n",
       "6   789    1.0    1.8  1-5-2014"
      ]
     },
     "execution_count": 105,
     "metadata": {},
     "output_type": "execute_result"
    }
   ],
   "source": [
    "sales"
   ]
  },
  {
   "cell_type": "markdown",
   "id": "58405970",
   "metadata": {},
   "source": [
    "## DataFrame Attributes"
   ]
  },
  {
   "cell_type": "code",
   "execution_count": 106,
   "id": "ea3f821f",
   "metadata": {},
   "outputs": [
    {
     "data": {
      "text/plain": [
       "[RangeIndex(start=0, stop=7, step=1),\n",
       " Index(['UPC', 'Units', 'Sales', 'Date'], dtype='object')]"
      ]
     },
     "execution_count": 106,
     "metadata": {},
     "output_type": "execute_result"
    }
   ],
   "source": [
    "sales.axes"
   ]
  },
  {
   "cell_type": "code",
   "execution_count": 107,
   "id": "57974654",
   "metadata": {},
   "outputs": [
    {
     "data": {
      "text/plain": [
       "RangeIndex(start=0, stop=7, step=1)"
      ]
     },
     "execution_count": 107,
     "metadata": {},
     "output_type": "execute_result"
    }
   ],
   "source": [
    "sales.index"
   ]
  },
  {
   "cell_type": "code",
   "execution_count": 108,
   "id": "ecccea73",
   "metadata": {},
   "outputs": [
    {
     "data": {
      "text/plain": [
       "Index(['UPC', 'Units', 'Sales', 'Date'], dtype='object')"
      ]
     },
     "execution_count": 108,
     "metadata": {},
     "output_type": "execute_result"
    }
   ],
   "source": [
    "sales.columns"
   ]
  },
  {
   "cell_type": "code",
   "execution_count": 109,
   "id": "724c04c9",
   "metadata": {},
   "outputs": [
    {
     "data": {
      "text/plain": [
       "(7, 4)"
      ]
     },
     "execution_count": 109,
     "metadata": {},
     "output_type": "execute_result"
    }
   ],
   "source": [
    "sales.shape"
   ]
  },
  {
   "cell_type": "markdown",
   "id": "7da0b63b",
   "metadata": {},
   "source": [
    "- The .info method summarizes the types and columns of a data frame. Italso provides insight into how much memory is being consumed. When you have larger data sets, this information is useful to see where memoryis going."
   ]
  },
  {
   "cell_type": "code",
   "execution_count": 111,
   "id": "6e6aa59f",
   "metadata": {},
   "outputs": [
    {
     "name": "stdout",
     "output_type": "stream",
     "text": [
      "<class 'pandas.core.frame.DataFrame'>\n",
      "RangeIndex: 7 entries, 0 to 6\n",
      "Data columns (total 4 columns):\n",
      " #   Column  Non-Null Count  Dtype  \n",
      "---  ------  --------------  -----  \n",
      " 0   UPC     7 non-null      int64  \n",
      " 1   Units   6 non-null      float64\n",
      " 2   Sales   6 non-null      float64\n",
      " 3   Date    7 non-null      object \n",
      "dtypes: float64(2), int64(1), object(1)\n",
      "memory usage: 356.0+ bytes\n"
     ]
    }
   ],
   "source": [
    "sales.info()"
   ]
  },
  {
   "cell_type": "markdown",
   "id": "6d0f418f",
   "metadata": {},
   "source": [
    "### Iteration"
   ]
  },
  {
   "cell_type": "code",
   "execution_count": 112,
   "id": "8a213cde",
   "metadata": {},
   "outputs": [
    {
     "name": "stdout",
     "output_type": "stream",
     "text": [
      "UPC\n",
      "Units\n",
      "Sales\n",
      "Date\n"
     ]
    }
   ],
   "source": [
    "for cols in sales:\n",
    "    print(cols)"
   ]
  },
  {
   "cell_type": "markdown",
   "id": "b1245881",
   "metadata": {},
   "source": [
    " - The .keys method is a more explicit synonym for the default iteration behavior:"
   ]
  },
  {
   "cell_type": "code",
   "execution_count": 114,
   "id": "eae45f69",
   "metadata": {},
   "outputs": [
    {
     "name": "stdout",
     "output_type": "stream",
     "text": [
      "UPC\n",
      "Units\n",
      "Sales\n",
      "Date\n"
     ]
    }
   ],
   "source": [
    "for cols in sales.keys():\n",
    "    print(cols)"
   ]
  },
  {
   "cell_type": "markdown",
   "id": "81a71899",
   "metadata": {},
   "source": [
    " - . The .iteritems returns pairs of column names and the individual column (as a series)"
   ]
  },
  {
   "cell_type": "code",
   "execution_count": 118,
   "id": "9b9a03f1",
   "metadata": {},
   "outputs": [
    {
     "name": "stdout",
     "output_type": "stream",
     "text": [
      "UPC 0    1234\n",
      "1    1234\n",
      "2    1234\n",
      "3     789\n",
      "4     789\n",
      "5     789\n",
      "6     789\n",
      "Name: UPC, dtype: int64\n",
      "Units 0    5.0\n",
      "1    2.0\n",
      "2    3.0\n",
      "3    1.0\n",
      "4    2.0\n",
      "5    NaN\n",
      "6    1.0\n",
      "Name: Units, dtype: float64\n",
      "Sales 0    20.2\n",
      "1     8.0\n",
      "2    13.0\n",
      "3     2.0\n",
      "4     3.8\n",
      "5     NaN\n",
      "6     1.8\n",
      "Name: Sales, dtype: float64\n",
      "Date 0    1-1-2014\n",
      "1    1-2-2014\n",
      "2    1-3-2014\n",
      "3    1-1-2014\n",
      "4    1-2-2014\n",
      "5    1-3-2014\n",
      "6    1-5-2014\n",
      "Name: Date, dtype: object\n"
     ]
    },
    {
     "name": "stderr",
     "output_type": "stream",
     "text": [
      "C:\\Users\\puzan12\\AppData\\Local\\Temp\\ipykernel_8248\\3994902019.py:1: FutureWarning: iteritems is deprecated and will be removed in a future version. Use .items instead.\n",
      "  for col, ser in sales.iteritems():\n"
     ]
    }
   ],
   "source": [
    "for col, ser in sales.iteritems():\n",
    "    print(col,ser)"
   ]
  },
  {
   "cell_type": "markdown",
   "id": "5a82bfe2",
   "metadata": {},
   "source": [
    "## Arithmetic"
   ]
  },
  {
   "cell_type": "code",
   "execution_count": null,
   "id": "9b43b215",
   "metadata": {},
   "outputs": [],
   "source": []
  }
 ],
 "metadata": {
  "kernelspec": {
   "display_name": "Python 3 (ipykernel)",
   "language": "python",
   "name": "python3"
  },
  "language_info": {
   "codemirror_mode": {
    "name": "ipython",
    "version": 3
   },
   "file_extension": ".py",
   "mimetype": "text/x-python",
   "name": "python",
   "nbconvert_exporter": "python",
   "pygments_lexer": "ipython3",
   "version": "3.11.3"
  }
 },
 "nbformat": 4,
 "nbformat_minor": 5
}
