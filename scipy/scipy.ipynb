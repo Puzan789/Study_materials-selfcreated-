{
 "cells": [
  {
   "cell_type": "code",
   "execution_count": 14,
   "id": "a3517812",
   "metadata": {},
   "outputs": [
    {
     "name": "stderr",
     "output_type": "stream",
     "text": [
      "UsageError: Line magic function `%%time` not found.\n"
     ]
    }
   ],
   "source": [
    "import numpy as np\n",
    "import scipy.linalg as slin"
   ]
  },
  {
   "cell_type": "markdown",
   "id": "d82ddfd0",
   "metadata": {},
   "source": [
    "### scipy.linalg vs numpy.linalg\n",
    "scipy.linalg contains all the functions in numpy.linalg. plus some other more advanced ones not contained in numpy.linalg.\n",
    "\n",
    "Another advantage of using scipy.linalg over numpy.linalg is that it is always compiled with BLAS/LAPACK support, while for NumPy this is optional. Therefore, the SciPy version might be faster depending on how NumPy was installed.\n",
    "\n",
    "Therefore, unless you don’t want to add scipy as a dependency to your numpy program, use scipy.linalg instead of numpy.linalg."
   ]
  },
  {
   "cell_type": "markdown",
   "id": "0b59e140",
   "metadata": {},
   "source": [
    "### Finding the inverse"
   ]
  },
  {
   "cell_type": "code",
   "execution_count": 4,
   "id": "fb1b01f7",
   "metadata": {},
   "outputs": [
    {
     "data": {
      "text/plain": [
       "array([[-1.25      ,  1.75      , -0.25      ],\n",
       "       [ 1.16666667, -1.83333333,  0.5       ],\n",
       "       [-0.25      ,  0.75      , -0.25      ]])"
      ]
     },
     "execution_count": 4,
     "metadata": {},
     "output_type": "execute_result"
    }
   ],
   "source": [
    "a=np.array([[1,3,5],\n",
    "           [2,3,4],[5,6,3]])\n",
    "slin.inv(a)"
   ]
  },
  {
   "cell_type": "code",
   "execution_count": 5,
   "id": "be35b54a",
   "metadata": {},
   "outputs": [
    {
     "data": {
      "text/plain": [
       "array([[ 1.00000000e+00, -4.44089210e-16,  0.00000000e+00],\n",
       "       [ 1.11022302e-16,  1.00000000e+00,  1.11022302e-16],\n",
       "       [-9.99200722e-16,  8.88178420e-16,  1.00000000e+00]])"
      ]
     },
     "execution_count": 5,
     "metadata": {},
     "output_type": "execute_result"
    }
   ],
   "source": [
    "a.dot(slin.inv(a))"
   ]
  },
  {
   "cell_type": "code",
   "execution_count": 11,
   "id": "8c869e5c",
   "metadata": {},
   "outputs": [
    {
     "data": {
      "text/plain": [
       "array([[-2.39766424e+00, -2.11389412e-01,  3.11882862e-01,\n",
       "         3.08467611e-02, -4.25878242e-03],\n",
       "       [ 6.70852348e-02,  7.37754568e-03, -1.11837533e-02,\n",
       "         1.27449750e-03,  2.05427881e-04],\n",
       "       [ 1.39557627e-02,  1.36927788e-03, -1.32336581e-03,\n",
       "        -2.02049332e-03,  1.80450747e-03],\n",
       "       [ 7.11667027e-01, -1.12401127e-03, -5.40188350e-02,\n",
       "         3.07387681e-04, -4.23826980e-04],\n",
       "       [ 7.49916743e-02,  3.94045065e-02, -1.38939835e-02,\n",
       "        -5.71276537e-03,  2.59424343e-05]])"
      ]
     },
     "execution_count": 11,
     "metadata": {},
     "output_type": "execute_result"
    }
   ],
   "source": [
    "p=np.array([[1,2,3,4,5],\n",
    "            [6,67,8, 9,45],\n",
    "            [13,24,35,34,65],\n",
    "            [23,432,12,32,43],\n",
    "            [23,435,564,23,23]])\n",
    "slin.inv(p)"
   ]
  },
  {
   "cell_type": "markdown",
   "id": "33d6595d",
   "metadata": {},
   "source": [
    "### solving a linear system\n",
    "x+3y+5z=10 <br>\n",
    "2x+5y+z=8 <br>\n",
    "2x+3y+8z=3"
   ]
  },
  {
   "cell_type": "code",
   "execution_count": 15,
   "id": "cb5765e2",
   "metadata": {},
   "outputs": [],
   "source": [
    "a=np.array([[1,3,5],\n",
    "           [2,5,1],\n",
    "           [2,3,8]])\n",
    "b=np.array([[10],[8],[3]])\n",
    "reinv=slin.inv(a)\n",
    "result=reinv.dot(b)\n",
    "result2=slin.solve(a,b)"
   ]
  },
  {
   "cell_type": "code",
   "execution_count": 16,
   "id": "6cb6cf45",
   "metadata": {},
   "outputs": [
    {
     "name": "stdout",
     "output_type": "stream",
     "text": [
      "[[-9.28]\n",
      " [ 5.16]\n",
      " [ 0.76]]\n",
      "[[-9.28]\n",
      " [ 5.16]\n",
      " [ 0.76]]\n"
     ]
    }
   ],
   "source": [
    "print(result)\n",
    "print(result2)\n"
   ]
  },
  {
   "cell_type": "markdown",
   "id": "351d532b",
   "metadata": {},
   "source": [
    "## Finding the determinant"
   ]
  },
  {
   "cell_type": "code",
   "execution_count": 18,
   "id": "dd1083dd",
   "metadata": {},
   "outputs": [
    {
     "name": "stdout",
     "output_type": "stream",
     "text": [
      "154.00000000000003\n"
     ]
    }
   ],
   "source": [
    "dp=np.array([[1,2,3],[32,1,1],[5,3,2]])\n",
    "res1=slin.det(dp)\n",
    "print(res1)"
   ]
  },
  {
   "cell_type": "markdown",
   "id": "edd053a2",
   "metadata": {},
   "source": [
    "\n",
    "## Norms\n"
   ]
  },
  {
   "cell_type": "code",
   "execution_count": 20,
   "id": "0745c37d",
   "metadata": {},
   "outputs": [
    {
     "name": "stdout",
     "output_type": "stream",
     "text": [
      "[[1 2]\n",
      " [3 4]]\n"
     ]
    },
    {
     "data": {
      "text/plain": [
       "7.0"
      ]
     },
     "execution_count": 20,
     "metadata": {},
     "output_type": "execute_result"
    }
   ],
   "source": [
    "A=np.array([[1,2],[3,4]])\n",
    "print(A)\n",
    "slin.norm(A)\n",
    "5.4772255750516612\n",
    "slin.norm(A,'fro') # frobenius norm is the default\n",
    "5.4772255750516612\n",
    "slin.norm(A,1) # L1 norm (max column sum)\n",
    "slin.norm(A,-1)\n",
    "slin.norm(A,np.inf) # L inf norm (max row sum)"
   ]
  },
  {
   "cell_type": "markdown",
   "id": "8f0fa12e",
   "metadata": {},
   "source": [
    "## Least Square Methods"
   ]
  },
  {
   "cell_type": "markdown",
   "id": "f7a467c6",
   "metadata": {},
   "source": [
    "## Eigen values"
   ]
  },
  {
   "cell_type": "code",
   "execution_count": 27,
   "id": "2eea90d9",
   "metadata": {},
   "outputs": [
    {
     "name": "stdout",
     "output_type": "stream",
     "text": [
      "[ 8.81507291e+00+0.j -1.81507291e+00+0.j -4.31306942e-16+0.j]\n",
      "eigenvector is [[ 0.4185306   0.77739002  0.40824829]\n",
      " [ 0.53923729 -0.47407921 -0.81649658]\n",
      " [ 0.73079086 -0.41341705  0.40824829]]\n"
     ]
    }
   ],
   "source": [
    "eg=np.array([[1,2,3],[4,3,2],[5,4,3]])\n",
    "eigenvalues,eigenvectors=slin.eig(eg)\n",
    "print(eigenvalues)\n",
    "print(\"eigenvector is\",eigenvectors)"
   ]
  },
  {
   "cell_type": "code",
   "execution_count": null,
   "id": "5542a6b6",
   "metadata": {},
   "outputs": [],
   "source": []
  }
 ],
 "metadata": {
  "kernelspec": {
   "display_name": "Python 3 (ipykernel)",
   "language": "python",
   "name": "python3"
  },
  "language_info": {
   "codemirror_mode": {
    "name": "ipython",
    "version": 3
   },
   "file_extension": ".py",
   "mimetype": "text/x-python",
   "name": "python",
   "nbconvert_exporter": "python",
   "pygments_lexer": "ipython3",
   "version": "3.11.3"
  }
 },
 "nbformat": 4,
 "nbformat_minor": 5
}
